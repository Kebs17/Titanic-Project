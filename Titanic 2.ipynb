{
 "cells": [
  {
   "cell_type": "code",
   "id": "initial_id",
   "metadata": {
    "collapsed": true,
    "ExecuteTime": {
     "end_time": "2025-04-11T20:20:59.061384Z",
     "start_time": "2025-04-11T20:20:59.058833Z"
    }
   },
   "source": [
    "from symbol import pass_stmt\n",
    "\n",
    "##Import\n",
    "import pandas as pd\n",
    "import numpy as np\n",
    "import matplotlib.pyplot as plt\n",
    "import seaborn as sns\n",
    "\n"
   ],
   "outputs": [],
   "execution_count": 528
  },
  {
   "metadata": {
    "ExecuteTime": {
     "end_time": "2025-04-11T20:20:59.231846Z",
     "start_time": "2025-04-11T20:20:59.223508Z"
    }
   },
   "cell_type": "code",
   "source": [
    "##Import Dataframes\n",
    "titanic=pd.read_csv('/Users/kalebbarnes/Downloads/titanic/train.csv')\n",
    "test = pd.read_csv('/Users/kalebbarnes/Downloads/titanic/test.csv')\n"
   ],
   "id": "37874a752f0ab05e",
   "outputs": [],
   "execution_count": 529
  },
  {
   "metadata": {},
   "cell_type": "markdown",
   "source": [
    "## Titanic Survival Project\n",
    "This project will focus on analyzing a data set of the passengers aboard the Titanic. The data set gives a list of features as well if they survived or not. We will focus on predicting if a passenger will survive or not. We are also provided with a test data set, however for simplicity we will focus on the train dataset that contains most of the sample. We will use both K nearest neighbors classicfication and Naive Bayes Classification and Ridge Classification to predict this. Unfortuantely we have significant amount of ages missing from the data set so we will use multiple linear regression models in order to predict age based on the features so that we can get as close as to an accurate sample as we can.\n",
    "\n",
    "### The Features of the Dataset\n",
    "- PassengerID (Gives a key for the passengers)\n",
    "- Survived (Categorical variable indicating if passenger survived)\n",
    "- Pclass (The class that the passenger was in)\n",
    "- Name\n",
    "- Sex\n",
    "- Age\n",
    "- SibSp (# of siblings / spouses aboard the Titanic)\n",
    "- Parch (# of parents / children aboard the Titanic)\n",
    "- Ticket (Ticket number)\n",
    "- Fare (Ticket Fare)\n",
    "- Cabin (Cabin Number)\n",
    "- Embarked (Port of Embarkation)\n",
    "\n",
    "### Dataset source\n",
    "Kaggle\n",
    "### Dataset name\n",
    "Titanic dataset\n",
    "\n"
   ],
   "id": "3e9136bbd9135b3a"
  },
  {
   "metadata": {},
   "cell_type": "markdown",
   "source": [
    "### Data Cleaning\n",
    "In this section of the project we cleaned the data by removing the features that either had no correlation to our target variable or were missing so many data points that they were un-useable. We also turned the Sex and Embarked variables into dummy categorical variables."
   ],
   "id": "61a0a30b366c6e9d"
  },
  {
   "metadata": {
    "ExecuteTime": {
     "end_time": "2025-04-11T20:20:59.745658Z",
     "start_time": "2025-04-11T20:20:59.741537Z"
    }
   },
   "cell_type": "code",
   "source": [
    "##Clean Training Data\n",
    "titanic.info()"
   ],
   "id": "50f7be9ac055e8ab",
   "outputs": [
    {
     "name": "stdout",
     "output_type": "stream",
     "text": [
      "<class 'pandas.core.frame.DataFrame'>\n",
      "RangeIndex: 891 entries, 0 to 890\n",
      "Data columns (total 12 columns):\n",
      " #   Column       Non-Null Count  Dtype  \n",
      "---  ------       --------------  -----  \n",
      " 0   PassengerId  891 non-null    int64  \n",
      " 1   Survived     891 non-null    int64  \n",
      " 2   Pclass       891 non-null    int64  \n",
      " 3   Name         891 non-null    object \n",
      " 4   Sex          891 non-null    object \n",
      " 5   Age          714 non-null    float64\n",
      " 6   SibSp        891 non-null    int64  \n",
      " 7   Parch        891 non-null    int64  \n",
      " 8   Ticket       891 non-null    object \n",
      " 9   Fare         891 non-null    float64\n",
      " 10  Cabin        204 non-null    object \n",
      " 11  Embarked     889 non-null    object \n",
      "dtypes: float64(2), int64(5), object(5)\n",
      "memory usage: 83.7+ KB\n"
     ]
    }
   ],
   "execution_count": 530
  },
  {
   "metadata": {
    "ExecuteTime": {
     "end_time": "2025-04-11T20:20:59.916181Z",
     "start_time": "2025-04-11T20:20:59.908916Z"
    }
   },
   "cell_type": "code",
   "source": [
    "##Remove UnNeeded Columns\n",
    "titanic = titanic.drop([\"Name\", \"Cabin\", \"Ticket\"], axis=1)\n",
    "titanic"
   ],
   "id": "e3ef9a9abfdc151e",
   "outputs": [
    {
     "data": {
      "text/plain": [
       "     PassengerId  Survived  Pclass     Sex      Age  SibSp  Parch     Fare  \\\n",
       "0              1         0       3    male 22.00000      1      0  7.25000   \n",
       "1              2         1       1  female 38.00000      1      0 71.28330   \n",
       "2              3         1       3  female 26.00000      0      0  7.92500   \n",
       "3              4         1       1  female 35.00000      1      0 53.10000   \n",
       "4              5         0       3    male 35.00000      0      0  8.05000   \n",
       "..           ...       ...     ...     ...      ...    ...    ...      ...   \n",
       "886          887         0       2    male 27.00000      0      0 13.00000   \n",
       "887          888         1       1  female 19.00000      0      0 30.00000   \n",
       "888          889         0       3  female      NaN      1      2 23.45000   \n",
       "889          890         1       1    male 26.00000      0      0 30.00000   \n",
       "890          891         0       3    male 32.00000      0      0  7.75000   \n",
       "\n",
       "    Embarked  \n",
       "0          S  \n",
       "1          C  \n",
       "2          S  \n",
       "3          S  \n",
       "4          S  \n",
       "..       ...  \n",
       "886        S  \n",
       "887        S  \n",
       "888        S  \n",
       "889        C  \n",
       "890        Q  \n",
       "\n",
       "[891 rows x 9 columns]"
      ],
      "text/html": [
       "<div>\n",
       "<style scoped>\n",
       "    .dataframe tbody tr th:only-of-type {\n",
       "        vertical-align: middle;\n",
       "    }\n",
       "\n",
       "    .dataframe tbody tr th {\n",
       "        vertical-align: top;\n",
       "    }\n",
       "\n",
       "    .dataframe thead th {\n",
       "        text-align: right;\n",
       "    }\n",
       "</style>\n",
       "<table border=\"1\" class=\"dataframe\">\n",
       "  <thead>\n",
       "    <tr style=\"text-align: right;\">\n",
       "      <th></th>\n",
       "      <th>PassengerId</th>\n",
       "      <th>Survived</th>\n",
       "      <th>Pclass</th>\n",
       "      <th>Sex</th>\n",
       "      <th>Age</th>\n",
       "      <th>SibSp</th>\n",
       "      <th>Parch</th>\n",
       "      <th>Fare</th>\n",
       "      <th>Embarked</th>\n",
       "    </tr>\n",
       "  </thead>\n",
       "  <tbody>\n",
       "    <tr>\n",
       "      <th>0</th>\n",
       "      <td>1</td>\n",
       "      <td>0</td>\n",
       "      <td>3</td>\n",
       "      <td>male</td>\n",
       "      <td>22.00000</td>\n",
       "      <td>1</td>\n",
       "      <td>0</td>\n",
       "      <td>7.25000</td>\n",
       "      <td>S</td>\n",
       "    </tr>\n",
       "    <tr>\n",
       "      <th>1</th>\n",
       "      <td>2</td>\n",
       "      <td>1</td>\n",
       "      <td>1</td>\n",
       "      <td>female</td>\n",
       "      <td>38.00000</td>\n",
       "      <td>1</td>\n",
       "      <td>0</td>\n",
       "      <td>71.28330</td>\n",
       "      <td>C</td>\n",
       "    </tr>\n",
       "    <tr>\n",
       "      <th>2</th>\n",
       "      <td>3</td>\n",
       "      <td>1</td>\n",
       "      <td>3</td>\n",
       "      <td>female</td>\n",
       "      <td>26.00000</td>\n",
       "      <td>0</td>\n",
       "      <td>0</td>\n",
       "      <td>7.92500</td>\n",
       "      <td>S</td>\n",
       "    </tr>\n",
       "    <tr>\n",
       "      <th>3</th>\n",
       "      <td>4</td>\n",
       "      <td>1</td>\n",
       "      <td>1</td>\n",
       "      <td>female</td>\n",
       "      <td>35.00000</td>\n",
       "      <td>1</td>\n",
       "      <td>0</td>\n",
       "      <td>53.10000</td>\n",
       "      <td>S</td>\n",
       "    </tr>\n",
       "    <tr>\n",
       "      <th>4</th>\n",
       "      <td>5</td>\n",
       "      <td>0</td>\n",
       "      <td>3</td>\n",
       "      <td>male</td>\n",
       "      <td>35.00000</td>\n",
       "      <td>0</td>\n",
       "      <td>0</td>\n",
       "      <td>8.05000</td>\n",
       "      <td>S</td>\n",
       "    </tr>\n",
       "    <tr>\n",
       "      <th>...</th>\n",
       "      <td>...</td>\n",
       "      <td>...</td>\n",
       "      <td>...</td>\n",
       "      <td>...</td>\n",
       "      <td>...</td>\n",
       "      <td>...</td>\n",
       "      <td>...</td>\n",
       "      <td>...</td>\n",
       "      <td>...</td>\n",
       "    </tr>\n",
       "    <tr>\n",
       "      <th>886</th>\n",
       "      <td>887</td>\n",
       "      <td>0</td>\n",
       "      <td>2</td>\n",
       "      <td>male</td>\n",
       "      <td>27.00000</td>\n",
       "      <td>0</td>\n",
       "      <td>0</td>\n",
       "      <td>13.00000</td>\n",
       "      <td>S</td>\n",
       "    </tr>\n",
       "    <tr>\n",
       "      <th>887</th>\n",
       "      <td>888</td>\n",
       "      <td>1</td>\n",
       "      <td>1</td>\n",
       "      <td>female</td>\n",
       "      <td>19.00000</td>\n",
       "      <td>0</td>\n",
       "      <td>0</td>\n",
       "      <td>30.00000</td>\n",
       "      <td>S</td>\n",
       "    </tr>\n",
       "    <tr>\n",
       "      <th>888</th>\n",
       "      <td>889</td>\n",
       "      <td>0</td>\n",
       "      <td>3</td>\n",
       "      <td>female</td>\n",
       "      <td>NaN</td>\n",
       "      <td>1</td>\n",
       "      <td>2</td>\n",
       "      <td>23.45000</td>\n",
       "      <td>S</td>\n",
       "    </tr>\n",
       "    <tr>\n",
       "      <th>889</th>\n",
       "      <td>890</td>\n",
       "      <td>1</td>\n",
       "      <td>1</td>\n",
       "      <td>male</td>\n",
       "      <td>26.00000</td>\n",
       "      <td>0</td>\n",
       "      <td>0</td>\n",
       "      <td>30.00000</td>\n",
       "      <td>C</td>\n",
       "    </tr>\n",
       "    <tr>\n",
       "      <th>890</th>\n",
       "      <td>891</td>\n",
       "      <td>0</td>\n",
       "      <td>3</td>\n",
       "      <td>male</td>\n",
       "      <td>32.00000</td>\n",
       "      <td>0</td>\n",
       "      <td>0</td>\n",
       "      <td>7.75000</td>\n",
       "      <td>Q</td>\n",
       "    </tr>\n",
       "  </tbody>\n",
       "</table>\n",
       "<p>891 rows × 9 columns</p>\n",
       "</div>"
      ]
     },
     "execution_count": 531,
     "metadata": {},
     "output_type": "execute_result"
    }
   ],
   "execution_count": 531
  },
  {
   "metadata": {
    "ExecuteTime": {
     "end_time": "2025-04-11T20:21:00.076256Z",
     "start_time": "2025-04-11T20:21:00.071944Z"
    }
   },
   "cell_type": "code",
   "source": [
    "##Get dummy Variables for Categorical Features\n",
    "titanic = pd.get_dummies(titanic, columns=[\"Sex\", \"Embarked\"], dtype = \"int\")"
   ],
   "id": "72dc075cc70be7c8",
   "outputs": [],
   "execution_count": 532
  },
  {
   "metadata": {
    "ExecuteTime": {
     "end_time": "2025-04-11T20:21:00.275178Z",
     "start_time": "2025-04-11T20:21:00.268393Z"
    }
   },
   "cell_type": "code",
   "source": "titanic",
   "id": "d83e771e95d7a3c5",
   "outputs": [
    {
     "data": {
      "text/plain": [
       "     PassengerId  Survived  Pclass      Age  SibSp  Parch     Fare  \\\n",
       "0              1         0       3 22.00000      1      0  7.25000   \n",
       "1              2         1       1 38.00000      1      0 71.28330   \n",
       "2              3         1       3 26.00000      0      0  7.92500   \n",
       "3              4         1       1 35.00000      1      0 53.10000   \n",
       "4              5         0       3 35.00000      0      0  8.05000   \n",
       "..           ...       ...     ...      ...    ...    ...      ...   \n",
       "886          887         0       2 27.00000      0      0 13.00000   \n",
       "887          888         1       1 19.00000      0      0 30.00000   \n",
       "888          889         0       3      NaN      1      2 23.45000   \n",
       "889          890         1       1 26.00000      0      0 30.00000   \n",
       "890          891         0       3 32.00000      0      0  7.75000   \n",
       "\n",
       "     Sex_female  Sex_male  Embarked_C  Embarked_Q  Embarked_S  \n",
       "0             0         1           0           0           1  \n",
       "1             1         0           1           0           0  \n",
       "2             1         0           0           0           1  \n",
       "3             1         0           0           0           1  \n",
       "4             0         1           0           0           1  \n",
       "..          ...       ...         ...         ...         ...  \n",
       "886           0         1           0           0           1  \n",
       "887           1         0           0           0           1  \n",
       "888           1         0           0           0           1  \n",
       "889           0         1           1           0           0  \n",
       "890           0         1           0           1           0  \n",
       "\n",
       "[891 rows x 12 columns]"
      ],
      "text/html": [
       "<div>\n",
       "<style scoped>\n",
       "    .dataframe tbody tr th:only-of-type {\n",
       "        vertical-align: middle;\n",
       "    }\n",
       "\n",
       "    .dataframe tbody tr th {\n",
       "        vertical-align: top;\n",
       "    }\n",
       "\n",
       "    .dataframe thead th {\n",
       "        text-align: right;\n",
       "    }\n",
       "</style>\n",
       "<table border=\"1\" class=\"dataframe\">\n",
       "  <thead>\n",
       "    <tr style=\"text-align: right;\">\n",
       "      <th></th>\n",
       "      <th>PassengerId</th>\n",
       "      <th>Survived</th>\n",
       "      <th>Pclass</th>\n",
       "      <th>Age</th>\n",
       "      <th>SibSp</th>\n",
       "      <th>Parch</th>\n",
       "      <th>Fare</th>\n",
       "      <th>Sex_female</th>\n",
       "      <th>Sex_male</th>\n",
       "      <th>Embarked_C</th>\n",
       "      <th>Embarked_Q</th>\n",
       "      <th>Embarked_S</th>\n",
       "    </tr>\n",
       "  </thead>\n",
       "  <tbody>\n",
       "    <tr>\n",
       "      <th>0</th>\n",
       "      <td>1</td>\n",
       "      <td>0</td>\n",
       "      <td>3</td>\n",
       "      <td>22.00000</td>\n",
       "      <td>1</td>\n",
       "      <td>0</td>\n",
       "      <td>7.25000</td>\n",
       "      <td>0</td>\n",
       "      <td>1</td>\n",
       "      <td>0</td>\n",
       "      <td>0</td>\n",
       "      <td>1</td>\n",
       "    </tr>\n",
       "    <tr>\n",
       "      <th>1</th>\n",
       "      <td>2</td>\n",
       "      <td>1</td>\n",
       "      <td>1</td>\n",
       "      <td>38.00000</td>\n",
       "      <td>1</td>\n",
       "      <td>0</td>\n",
       "      <td>71.28330</td>\n",
       "      <td>1</td>\n",
       "      <td>0</td>\n",
       "      <td>1</td>\n",
       "      <td>0</td>\n",
       "      <td>0</td>\n",
       "    </tr>\n",
       "    <tr>\n",
       "      <th>2</th>\n",
       "      <td>3</td>\n",
       "      <td>1</td>\n",
       "      <td>3</td>\n",
       "      <td>26.00000</td>\n",
       "      <td>0</td>\n",
       "      <td>0</td>\n",
       "      <td>7.92500</td>\n",
       "      <td>1</td>\n",
       "      <td>0</td>\n",
       "      <td>0</td>\n",
       "      <td>0</td>\n",
       "      <td>1</td>\n",
       "    </tr>\n",
       "    <tr>\n",
       "      <th>3</th>\n",
       "      <td>4</td>\n",
       "      <td>1</td>\n",
       "      <td>1</td>\n",
       "      <td>35.00000</td>\n",
       "      <td>1</td>\n",
       "      <td>0</td>\n",
       "      <td>53.10000</td>\n",
       "      <td>1</td>\n",
       "      <td>0</td>\n",
       "      <td>0</td>\n",
       "      <td>0</td>\n",
       "      <td>1</td>\n",
       "    </tr>\n",
       "    <tr>\n",
       "      <th>4</th>\n",
       "      <td>5</td>\n",
       "      <td>0</td>\n",
       "      <td>3</td>\n",
       "      <td>35.00000</td>\n",
       "      <td>0</td>\n",
       "      <td>0</td>\n",
       "      <td>8.05000</td>\n",
       "      <td>0</td>\n",
       "      <td>1</td>\n",
       "      <td>0</td>\n",
       "      <td>0</td>\n",
       "      <td>1</td>\n",
       "    </tr>\n",
       "    <tr>\n",
       "      <th>...</th>\n",
       "      <td>...</td>\n",
       "      <td>...</td>\n",
       "      <td>...</td>\n",
       "      <td>...</td>\n",
       "      <td>...</td>\n",
       "      <td>...</td>\n",
       "      <td>...</td>\n",
       "      <td>...</td>\n",
       "      <td>...</td>\n",
       "      <td>...</td>\n",
       "      <td>...</td>\n",
       "      <td>...</td>\n",
       "    </tr>\n",
       "    <tr>\n",
       "      <th>886</th>\n",
       "      <td>887</td>\n",
       "      <td>0</td>\n",
       "      <td>2</td>\n",
       "      <td>27.00000</td>\n",
       "      <td>0</td>\n",
       "      <td>0</td>\n",
       "      <td>13.00000</td>\n",
       "      <td>0</td>\n",
       "      <td>1</td>\n",
       "      <td>0</td>\n",
       "      <td>0</td>\n",
       "      <td>1</td>\n",
       "    </tr>\n",
       "    <tr>\n",
       "      <th>887</th>\n",
       "      <td>888</td>\n",
       "      <td>1</td>\n",
       "      <td>1</td>\n",
       "      <td>19.00000</td>\n",
       "      <td>0</td>\n",
       "      <td>0</td>\n",
       "      <td>30.00000</td>\n",
       "      <td>1</td>\n",
       "      <td>0</td>\n",
       "      <td>0</td>\n",
       "      <td>0</td>\n",
       "      <td>1</td>\n",
       "    </tr>\n",
       "    <tr>\n",
       "      <th>888</th>\n",
       "      <td>889</td>\n",
       "      <td>0</td>\n",
       "      <td>3</td>\n",
       "      <td>NaN</td>\n",
       "      <td>1</td>\n",
       "      <td>2</td>\n",
       "      <td>23.45000</td>\n",
       "      <td>1</td>\n",
       "      <td>0</td>\n",
       "      <td>0</td>\n",
       "      <td>0</td>\n",
       "      <td>1</td>\n",
       "    </tr>\n",
       "    <tr>\n",
       "      <th>889</th>\n",
       "      <td>890</td>\n",
       "      <td>1</td>\n",
       "      <td>1</td>\n",
       "      <td>26.00000</td>\n",
       "      <td>0</td>\n",
       "      <td>0</td>\n",
       "      <td>30.00000</td>\n",
       "      <td>0</td>\n",
       "      <td>1</td>\n",
       "      <td>1</td>\n",
       "      <td>0</td>\n",
       "      <td>0</td>\n",
       "    </tr>\n",
       "    <tr>\n",
       "      <th>890</th>\n",
       "      <td>891</td>\n",
       "      <td>0</td>\n",
       "      <td>3</td>\n",
       "      <td>32.00000</td>\n",
       "      <td>0</td>\n",
       "      <td>0</td>\n",
       "      <td>7.75000</td>\n",
       "      <td>0</td>\n",
       "      <td>1</td>\n",
       "      <td>0</td>\n",
       "      <td>1</td>\n",
       "      <td>0</td>\n",
       "    </tr>\n",
       "  </tbody>\n",
       "</table>\n",
       "<p>891 rows × 12 columns</p>\n",
       "</div>"
      ]
     },
     "execution_count": 533,
     "metadata": {},
     "output_type": "execute_result"
    }
   ],
   "execution_count": 533
  },
  {
   "metadata": {
    "ExecuteTime": {
     "end_time": "2025-04-11T20:21:00.428942Z",
     "start_time": "2025-04-11T20:21:00.426474Z"
    }
   },
   "cell_type": "code",
   "source": [
    "\n",
    "##Scale Fare\n",
    "from sklearn.compose import ColumnTransformer\n",
    "from sklearn.preprocessing import StandardScaler, OneHotEncoder\n",
    "\n",
    "num_features = ['PassengerId', 'Pclass', 'Age', 'SibSp', 'Parch', 'Fare']\n",
    "cat_features = ['Survived', 'Sex_female', 'Sex_male', 'Embarked_C', 'Embarked_Q', 'Embarked_S']\n",
    "\n",
    "ct = ColumnTransformer([\n",
    "    ('scale', StandardScaler(), num_features)\n",
    "], remainder='passthrough')\n"
   ],
   "id": "ae1159c88c2ea06f",
   "outputs": [],
   "execution_count": 534
  },
  {
   "metadata": {
    "ExecuteTime": {
     "end_time": "2025-04-11T20:21:00.652085Z",
     "start_time": "2025-04-11T20:21:00.645495Z"
    }
   },
   "cell_type": "code",
   "source": [
    "ct.fit(titanic)\n",
    "titanic_ct = ct.transform(titanic)\n",
    "titanic_ct = pd.DataFrame(titanic_ct, columns=num_features + cat_features)\n"
   ],
   "id": "221cf190f1915eb7",
   "outputs": [],
   "execution_count": 535
  },
  {
   "metadata": {
    "ExecuteTime": {
     "end_time": "2025-04-11T20:21:00.817575Z",
     "start_time": "2025-04-11T20:21:00.815865Z"
    }
   },
   "cell_type": "code",
   "source": "scaler = ct.named_transformers_['scale']\n",
   "id": "a89888874d0bf76f",
   "outputs": [],
   "execution_count": 536
  },
  {
   "metadata": {},
   "cell_type": "markdown",
   "source": [
    "## Data Exploration\n",
    "We will complete basic data exploration to explore the individual relationships between our target feature and the other features."
   ],
   "id": "996e0d5ac3f8b1e3"
  },
  {
   "metadata": {
    "ExecuteTime": {
     "end_time": "2025-04-11T20:21:01.188590Z",
     "start_time": "2025-04-11T20:21:01.150372Z"
    }
   },
   "cell_type": "code",
   "source": [
    "survival_by_sex = titanic.groupby('Sex_male')['Survived'].mean()\n",
    "plt.figure(figsize=(6, 4))\n",
    "plt.bar(['Female', 'Male'], survival_by_sex, color=['skyblue', 'orange'])\n",
    "plt.ylabel('Survival Rate')\n",
    "plt.title('Survival Rate by Sex')\n",
    "plt.ylim(0, 1)  # Survival rate ranges from 0 to 1\n",
    "plt.grid(axis='y', linestyle='--', alpha=0.7)\n",
    "\n",
    "plt.show()"
   ],
   "id": "2a1d5885c47f81ec",
   "outputs": [
    {
     "data": {
      "text/plain": [
       "<Figure size 600x400 with 1 Axes>"
      ],
      "image/png": "[encoded data removed]"
     },
     "metadata": {},
     "output_type": "display_data"
    }
   ],
   "execution_count": 537
  },
  {
   "metadata": {
    "ExecuteTime": {
     "end_time": "2025-04-11T20:21:01.446934Z",
     "start_time": "2025-04-11T20:21:01.339246Z"
    }
   },
   "cell_type": "code",
   "source": [
    "\n",
    "male_survived = titanic[(titanic['Sex_male'] == 1) & (titanic['Survived'] == 1)]['Age']\n",
    "male_dead = titanic[(titanic['Sex_male'] == 1) & (titanic['Survived'] == 0)]['Age']\n",
    "female_survived = titanic[(titanic['Sex_female'] == 1) & (titanic['Survived'] == 1)]['Age']\n",
    "female_dead = titanic[(titanic['Sex_female'] == 1) & (titanic['Survived'] == 0)]['Age']\n",
    "\n",
    "plt.figure(figsize=(10, 6))\n",
    "bins = range(0, 85, 5)\n",
    "\n",
    "plt.hist([male_survived, male_dead],\n",
    "         bins=bins, stacked=True, color=['blue', 'lightblue'], label=['Male Survived', 'Male Did Not Survive'], alpha=0.7)\n",
    "\n",
    "plt.hist([female_survived, female_dead],\n",
    "         bins=bins, stacked=True, color=['pink', 'lightcoral'], label=['Female Survived', 'Female Did Not Survive'], alpha=0.7)\n",
    "\n",
    "plt.xlabel('Age')\n",
    "plt.ylabel('Number of Passengers')\n",
    "plt.title('Age Distribution by Sex and Survival Status')\n",
    "plt.legend()\n",
    "plt.grid(axis='y', linestyle='--', alpha=0.6)\n",
    "\n",
    "plt.show()"
   ],
   "id": "b9298937962b4be0",
   "outputs": [
    {
     "data": {
      "text/plain": [
       "<Figure size 1000x600 with 1 Axes>"
      ],
      "image/png": "[encoded data removed]"
     },
     "metadata": {},
     "output_type": "display_data"
    }
   ],
   "execution_count": 538
  },
  {
   "metadata": {
    "ExecuteTime": {
     "end_time": "2025-04-11T20:21:01.602708Z",
     "start_time": "2025-04-11T20:21:01.522995Z"
    }
   },
   "cell_type": "code",
   "source": [
    "# Prepare data\n",
    "survived_fare = titanic[titanic['Survived'] == 1]['Fare']\n",
    "not_survived_fare = titanic[titanic['Survived'] == 0]['Fare']\n",
    "\n",
    "# Plot\n",
    "plt.figure(figsize=(8, 5))\n",
    "plt.boxplot([not_survived_fare, survived_fare], tick_labels=['Did Not Survive', 'Survived'], patch_artist=True,\n",
    "            boxprops=dict(facecolor='lightgray'), medianprops=dict(color='red'))\n",
    "\n",
    "plt.ylabel('Fare')\n",
    "plt.title('Fare Distribution by Survival Status')\n",
    "plt.grid(axis='y', linestyle='--', alpha=0.6)\n",
    "plt.yscale('log')  # Optional: to handle the long tail in fare distribution\n",
    "\n",
    "plt.show()"
   ],
   "id": "6086b6a40d790849",
   "outputs": [
    {
     "data": {
      "text/plain": [
       "<Figure size 800x500 with 1 Axes>"
      ],
      "image/png": "[encoded data removed]"
     },
     "metadata": {},
     "output_type": "display_data"
    }
   ],
   "execution_count": 539
  },
  {
   "metadata": {
    "ExecuteTime": {
     "end_time": "2025-04-11T20:21:01.713651Z",
     "start_time": "2025-04-11T20:21:01.711084Z"
    }
   },
   "cell_type": "code",
   "source": [
    "##Linear Regression for missing Age Values\n",
    "from sklearn.linear_model import LinearRegression\n",
    "from sklearn.model_selection import train_test_split, cross_val_score\n",
    "from sklearn.metrics import mean_absolute_error, mean_squared_error, r2_score, confusion_matrix\n",
    "\n",
    "##Split Data into Known and Unknown Age\n",
    "age_known = titanic_ct[titanic_ct[\"Age\"].notna()]\n",
    "age_unknown = titanic_ct[titanic_ct['Age'].isna()]"
   ],
   "id": "b249a661a0294b2",
   "outputs": [],
   "execution_count": 540
  },
  {
   "metadata": {
    "ExecuteTime": {
     "end_time": "2025-04-11T20:21:01.927498Z",
     "start_time": "2025-04-11T20:21:01.925117Z"
    }
   },
   "cell_type": "code",
   "source": [
    "##Create X and Y\n",
    "X_lr = age_known.drop([\"Age\"], axis=1)\n",
    "Y_lr = age_known[\"Age\"]"
   ],
   "id": "bcf7d7f88a3ff174",
   "outputs": [],
   "execution_count": 541
  },
  {
   "metadata": {
    "ExecuteTime": {
     "end_time": "2025-04-11T20:21:04.391539Z",
     "start_time": "2025-04-11T20:21:02.123377Z"
    }
   },
   "cell_type": "code",
   "source": [
    "##Train Test Split\n",
    "X_train, X_test, Y_train, Y_test = train_test_split(X_lr, Y_lr, test_size=0.2, random_state=42)\n",
    "print(X_train.shape, X_test.shape, Y_train.shape, Y_test.shape)\n",
    "\n",
    "##Determine best features\n",
    "import itertools\n",
    "from sklearn.metrics import r2_score\n",
    "from sklearn.metrics import mean_squared_error\n",
    "\n",
    "##Function for Exhaustive Subset Selection for Multilinear Regression of Age\n",
    "\n",
    "def exhaustive_selection(X: \"DataFrame\", y: \"DataFrame\", model: \"Regression\") -> list:\n",
    "    best_score: float = -np.inf\n",
    "    best_features: list = None\n",
    "    best_scores: list = []\n",
    "    X_train, X_test, Y_train, Y_test = train_test_split(X, y, test_size=0.2, random_state=42)\n",
    "\n",
    "\n",
    "    for k in range(1, len(X.columns) + 1):\n",
    "        for subset in itertools.combinations(X.columns, k):\n",
    "            model = model\n",
    "            model.fit(X_train[list(subset)], Y_train)\n",
    "            y_pred = model.predict(X_test[list(subset)])\n",
    "            score = r2_score(Y_test, y_pred)\n",
    "\n",
    "            if score > best_score:\n",
    "                best_features = subset\n",
    "                best_score = score\n",
    "\n",
    "        best_scores.append(best_score)\n",
    "\n",
    "    print(X_train.shape, X_test.shape, Y_train.shape, Y_test.shape)\n",
    "    print(best_features)\n",
    "    print(np.max(best_scores))\n",
    "    print(best_scores)\n",
    "    plt.plot(range(1, len(X.columns) + 1), best_scores)\n",
    "    plt.show()\n",
    "    return best_features\n",
    "\n",
    "##Call Function for Linear Regression\n",
    "best_subset_lr = exhaustive_selection(X_lr, Y_lr, LinearRegression())"
   ],
   "id": "c051c231a2ad457e",
   "outputs": [
    {
     "name": "stdout",
     "output_type": "stream",
     "text": [
      "(571, 11) (143, 11) (571,) (143,)\n",
      "(571, 11) (143, 11) (571,) (143,)\n",
      "('PassengerId', 'Pclass', 'SibSp', 'Parch', 'Fare', 'Embarked_C', 'Embarked_S')\n",
      "0.28541520210011184\n",
      "[0.16175062159356057, 0.26272687745080914, 0.27212255329639945, 0.27917382659083034, 0.283922447750642, 0.2854066660547815, 0.28541520210011184, 0.28541520210011184, 0.28541520210011184, 0.28541520210011184, 0.28541520210011184]\n"
     ]
    },
    {
     "data": {
      "text/plain": [
       "<Figure size 640x480 with 1 Axes>"
      ],
      "image/png": "[encoded data removed]"
     },
     "metadata": {},
     "output_type": "display_data"
    }
   ],
   "execution_count": 542
  },
  {
   "metadata": {},
   "cell_type": "markdown",
   "source": "best_subset_lr",
   "id": "b0c3ca6d6add9135"
  },
  {
   "metadata": {
    "ExecuteTime": {
     "end_time": "2025-04-11T20:21:04.405343Z",
     "start_time": "2025-04-11T20:21:04.400207Z"
    }
   },
   "cell_type": "code",
   "source": [
    "X_train_bf = X_train[list(best_subset_lr)]\n",
    "X_test_bf = X_test[list(best_subset_lr)]\n",
    "X_train_bf"
   ],
   "id": "a4008f81b9d9d4ce",
   "outputs": [
    {
     "data": {
      "text/plain": [
       "     PassengerId   Pclass    SibSp    Parch     Fare  Embarked_C  Embarked_S\n",
       "328     -0.45488  0.82738  0.43279  0.76763 -0.23516     0.00000     1.00000\n",
       "73      -1.44629  0.82738  0.43279 -0.47367 -0.35739     1.00000     0.00000\n",
       "253     -0.74647  0.82738  0.43279 -0.47367 -0.32425     0.00000     1.00000\n",
       "719      1.06528  0.82738 -0.47455 -0.47367 -0.49187     0.00000     1.00000\n",
       "666      0.85922 -0.36936 -0.47455 -0.47367 -0.38667     0.00000     1.00000\n",
       "..           ...      ...      ...      ...      ...         ...         ...\n",
       "92      -1.37242 -1.56611  0.43279 -0.47367  0.58332     0.00000     1.00000\n",
       "134     -1.20913 -0.36936 -0.47455 -0.47367 -0.38667     0.00000     1.00000\n",
       "337     -0.41989 -1.56611 -0.47455 -0.47367  2.05969     1.00000     0.00000\n",
       "548      0.40045  0.82738  0.43279  0.76763 -0.23516     0.00000     1.00000\n",
       "130     -1.22468  0.82738 -0.47455 -0.47367 -0.48944     1.00000     0.00000\n",
       "\n",
       "[571 rows x 7 columns]"
      ],
      "text/html": [
       "<div>\n",
       "<style scoped>\n",
       "    .dataframe tbody tr th:only-of-type {\n",
       "        vertical-align: middle;\n",
       "    }\n",
       "\n",
       "    .dataframe tbody tr th {\n",
       "        vertical-align: top;\n",
       "    }\n",
       "\n",
       "    .dataframe thead th {\n",
       "        text-align: right;\n",
       "    }\n",
       "</style>\n",
       "<table border=\"1\" class=\"dataframe\">\n",
       "  <thead>\n",
       "    <tr style=\"text-align: right;\">\n",
       "      <th></th>\n",
       "      <th>PassengerId</th>\n",
       "      <th>Pclass</th>\n",
       "      <th>SibSp</th>\n",
       "      <th>Parch</th>\n",
       "      <th>Fare</th>\n",
       "      <th>Embarked_C</th>\n",
       "      <th>Embarked_S</th>\n",
       "    </tr>\n",
       "  </thead>\n",
       "  <tbody>\n",
       "    <tr>\n",
       "      <th>328</th>\n",
       "      <td>-0.45488</td>\n",
       "      <td>0.82738</td>\n",
       "      <td>0.43279</td>\n",
       "      <td>0.76763</td>\n",
       "      <td>-0.23516</td>\n",
       "      <td>0.00000</td>\n",
       "      <td>1.00000</td>\n",
       "    </tr>\n",
       "    <tr>\n",
       "      <th>73</th>\n",
       "      <td>-1.44629</td>\n",
       "      <td>0.82738</td>\n",
       "      <td>0.43279</td>\n",
       "      <td>-0.47367</td>\n",
       "      <td>-0.35739</td>\n",
       "      <td>1.00000</td>\n",
       "      <td>0.00000</td>\n",
       "    </tr>\n",
       "    <tr>\n",
       "      <th>253</th>\n",
       "      <td>-0.74647</td>\n",
       "      <td>0.82738</td>\n",
       "      <td>0.43279</td>\n",
       "      <td>-0.47367</td>\n",
       "      <td>-0.32425</td>\n",
       "      <td>0.00000</td>\n",
       "      <td>1.00000</td>\n",
       "    </tr>\n",
       "    <tr>\n",
       "      <th>719</th>\n",
       "      <td>1.06528</td>\n",
       "      <td>0.82738</td>\n",
       "      <td>-0.47455</td>\n",
       "      <td>-0.47367</td>\n",
       "      <td>-0.49187</td>\n",
       "      <td>0.00000</td>\n",
       "      <td>1.00000</td>\n",
       "    </tr>\n",
       "    <tr>\n",
       "      <th>666</th>\n",
       "      <td>0.85922</td>\n",
       "      <td>-0.36936</td>\n",
       "      <td>-0.47455</td>\n",
       "      <td>-0.47367</td>\n",
       "      <td>-0.38667</td>\n",
       "      <td>0.00000</td>\n",
       "      <td>1.00000</td>\n",
       "    </tr>\n",
       "    <tr>\n",
       "      <th>...</th>\n",
       "      <td>...</td>\n",
       "      <td>...</td>\n",
       "      <td>...</td>\n",
       "      <td>...</td>\n",
       "      <td>...</td>\n",
       "      <td>...</td>\n",
       "      <td>...</td>\n",
       "    </tr>\n",
       "    <tr>\n",
       "      <th>92</th>\n",
       "      <td>-1.37242</td>\n",
       "      <td>-1.56611</td>\n",
       "      <td>0.43279</td>\n",
       "      <td>-0.47367</td>\n",
       "      <td>0.58332</td>\n",
       "      <td>0.00000</td>\n",
       "      <td>1.00000</td>\n",
       "    </tr>\n",
       "    <tr>\n",
       "      <th>134</th>\n",
       "      <td>-1.20913</td>\n",
       "      <td>-0.36936</td>\n",
       "      <td>-0.47455</td>\n",
       "      <td>-0.47367</td>\n",
       "      <td>-0.38667</td>\n",
       "      <td>0.00000</td>\n",
       "      <td>1.00000</td>\n",
       "    </tr>\n",
       "    <tr>\n",
       "      <th>337</th>\n",
       "      <td>-0.41989</td>\n",
       "      <td>-1.56611</td>\n",
       "      <td>-0.47455</td>\n",
       "      <td>-0.47367</td>\n",
       "      <td>2.05969</td>\n",
       "      <td>1.00000</td>\n",
       "      <td>0.00000</td>\n",
       "    </tr>\n",
       "    <tr>\n",
       "      <th>548</th>\n",
       "      <td>0.40045</td>\n",
       "      <td>0.82738</td>\n",
       "      <td>0.43279</td>\n",
       "      <td>0.76763</td>\n",
       "      <td>-0.23516</td>\n",
       "      <td>0.00000</td>\n",
       "      <td>1.00000</td>\n",
       "    </tr>\n",
       "    <tr>\n",
       "      <th>130</th>\n",
       "      <td>-1.22468</td>\n",
       "      <td>0.82738</td>\n",
       "      <td>-0.47455</td>\n",
       "      <td>-0.47367</td>\n",
       "      <td>-0.48944</td>\n",
       "      <td>1.00000</td>\n",
       "      <td>0.00000</td>\n",
       "    </tr>\n",
       "  </tbody>\n",
       "</table>\n",
       "<p>571 rows × 7 columns</p>\n",
       "</div>"
      ]
     },
     "execution_count": 543,
     "metadata": {},
     "output_type": "execute_result"
    }
   ],
   "execution_count": 543
  },
  {
   "metadata": {
    "ExecuteTime": {
     "end_time": "2025-04-11T20:21:04.450723Z",
     "start_time": "2025-04-11T20:21:04.447667Z"
    }
   },
   "cell_type": "code",
   "source": [
    "\n",
    "##Fit the Model\n",
    "lr = LinearRegression(positive=True)\n",
    "lr.fit(X_train_bf, Y_train)\n",
    "\n",
    "##Coef and Intercept\n",
    "print(lr.coef_, lr.intercept_)"
   ],
   "id": "36dc84dfaccd2c1e",
   "outputs": [
    {
     "name": "stdout",
     "output_type": "stream",
     "text": [
      "[0.02911677 0.         0.         0.         0.10514255 0.1418032\n",
      " 0.13131498] -0.11268180051458956\n"
     ]
    }
   ],
   "execution_count": 544
  },
  {
   "metadata": {
    "ExecuteTime": {
     "end_time": "2025-04-11T20:21:04.486599Z",
     "start_time": "2025-04-11T20:21:04.483323Z"
    }
   },
   "cell_type": "code",
   "source": [
    "#Test Accuracy\n",
    "y_pred = lr.predict(X_test_bf)\n",
    "MAE = mean_absolute_error(Y_test, y_pred)\n",
    "MSE = mean_squared_error(Y_test, y_pred)\n",
    "R2 = r2_score(Y_test, y_pred)\n",
    "RMSE = np.sqrt(MSE)\n",
    "print(MAE, MSE, RMSE, R2)"
   ],
   "id": "8b0adccda6e716dd",
   "outputs": [
    {
     "name": "stdout",
     "output_type": "stream",
     "text": [
      "0.7588174730539518 0.898052052012762 0.9476560831930336 -0.02069285645349428\n"
     ]
    }
   ],
   "execution_count": 545
  },
  {
   "metadata": {
    "ExecuteTime": {
     "end_time": "2025-04-11T20:21:06.904793Z",
     "start_time": "2025-04-11T20:21:04.631289Z"
    }
   },
   "cell_type": "code",
   "source": [
    "##Import Ridge Regression\n",
    "from sklearn.linear_model import Ridge\n",
    "\n",
    "##Call function for subset Selection\n",
    "best_subset_rr = exhaustive_selection(X_lr, Y_lr, Ridge())\n",
    "X_train_bf = X_train[list(best_subset_rr)]\n",
    "X_test_bf = X_test[list(best_subset_rr)]"
   ],
   "id": "5170b0c1e79f5f58",
   "outputs": [
    {
     "name": "stdout",
     "output_type": "stream",
     "text": [
      "(571, 11) (143, 11) (571,) (143,)\n",
      "('PassengerId', 'Pclass', 'SibSp', 'Parch', 'Fare', 'Embarked_C', 'Embarked_S')\n",
      "0.2848216352823689\n",
      "[0.16165769699047983, 0.26283813488547303, 0.27216295360560094, 0.27919859182949225, 0.28322588519067904, 0.28480861581878725, 0.2848216352823689, 0.2848216352823689, 0.2848216352823689, 0.2848216352823689, 0.2848216352823689]\n"
     ]
    },
    {
     "data": {
      "text/plain": [
       "<Figure size 640x480 with 1 Axes>"
      ],
      "image/png": "[encoded data removed]"
     },
     "metadata": {},
     "output_type": "display_data"
    }
   ],
   "execution_count": 546
  },
  {
   "metadata": {
    "ExecuteTime": {
     "end_time": "2025-04-11T20:21:06.934876Z",
     "start_time": "2025-04-11T20:21:06.931034Z"
    }
   },
   "cell_type": "code",
   "source": [
    "##Fit the model\n",
    "ridge = Ridge(positive=True)\n",
    "ridge.fit(X_train_bf, Y_train)"
   ],
   "id": "fcce020b8bfee5ef",
   "outputs": [
    {
     "data": {
      "text/plain": [
       "Ridge(positive=True)"
      ],
      "text/html": [
       "<style>#sk-container-id-25 {\n",
       "  /* Definition of color scheme common for light and dark mode */\n",
       "  --sklearn-color-text: #000;\n",
       "  --sklearn-color-text-muted: #666;\n",
       "  --sklearn-color-line: gray;\n",
       "  /* Definition of color scheme for unfitted estimators */\n",
       "  --sklearn-color-unfitted-level-0: #fff5e6;\n",
       "  --sklearn-color-unfitted-level-1: #f6e4d2;\n",
       "  --sklearn-color-unfitted-level-2: #ffe0b3;\n",
       "  --sklearn-color-unfitted-level-3: chocolate;\n",
       "  /* Definition of color scheme for fitted estimators */\n",
       "  --sklearn-color-fitted-level-0: #f0f8ff;\n",
       "  --sklearn-color-fitted-level-1: #d4ebff;\n",
       "  --sklearn-color-fitted-level-2: #b3dbfd;\n",
       "  --sklearn-color-fitted-level-3: cornflowerblue;\n",
       "\n",
       "  /* Specific color for light theme */\n",
       "  --sklearn-color-text-on-default-background: var(--sg-text-color, var(--theme-code-foreground, var(--jp-content-font-color1, black)));\n",
       "  --sklearn-color-background: var(--sg-background-color, var(--theme-background, var(--jp-layout-color0, white)));\n",
       "  --sklearn-color-border-box: var(--sg-text-color, var(--theme-code-foreground, var(--jp-content-font-color1, black)));\n",
       "  --sklearn-color-icon: #696969;\n",
       "\n",
       "  @media (prefers-color-scheme: dark) {\n",
       "    /* Redefinition of color scheme for dark theme */\n",
       "    --sklearn-color-text-on-default-background: var(--sg-text-color, var(--theme-code-foreground, var(--jp-content-font-color1, white)));\n",
       "    --sklearn-color-background: var(--sg-background-color, var(--theme-background, var(--jp-layout-color0, #111)));\n",
       "    --sklearn-color-border-box: var(--sg-text-color, var(--theme-code-foreground, var(--jp-content-font-color1, white)));\n",
       "    --sklearn-color-icon: #878787;\n",
       "  }\n",
       "}\n",
       "\n",
       "#sk-container-id-25 {\n",
       "  color: var(--sklearn-color-text);\n",
       "}\n",
       "\n",
       "#sk-container-id-25 pre {\n",
       "  padding: 0;\n",
       "}\n",
       "\n",
       "#sk-container-id-25 input.sk-hidden--visually {\n",
       "  border: 0;\n",
       "  clip: rect(1px 1px 1px 1px);\n",
       "  clip: rect(1px, 1px, 1px, 1px);\n",
       "  height: 1px;\n",
       "  margin: -1px;\n",
       "  overflow: hidden;\n",
       "  padding: 0;\n",
       "  position: absolute;\n",
       "  width: 1px;\n",
       "}\n",
       "\n",
       "#sk-container-id-25 div.sk-dashed-wrapped {\n",
       "  border: 1px dashed var(--sklearn-color-line);\n",
       "  margin: 0 0.4em 0.5em 0.4em;\n",
       "  box-sizing: border-box;\n",
       "  padding-bottom: 0.4em;\n",
       "  background-color: var(--sklearn-color-background);\n",
       "}\n",
       "\n",
       "#sk-container-id-25 div.sk-container {\n",
       "  /* jupyter's `normalize.less` sets `[hidden] { display: none; }`\n",
       "     but bootstrap.min.css set `[hidden] { display: none !important; }`\n",
       "     so we also need the `!important` here to be able to override the\n",
       "     default hidden behavior on the sphinx rendered scikit-learn.org.\n",
       "     See: https://github.com/scikit-learn/scikit-learn/issues/21755 */\n",
       "  display: inline-block !important;\n",
       "  position: relative;\n",
       "}\n",
       "\n",
       "#sk-container-id-25 div.sk-text-repr-fallback {\n",
       "  display: none;\n",
       "}\n",
       "\n",
       "div.sk-parallel-item,\n",
       "div.sk-serial,\n",
       "div.sk-item {\n",
       "  /* draw centered vertical line to link estimators */\n",
       "  background-image: linear-gradient(var(--sklearn-color-text-on-default-background), var(--sklearn-color-text-on-default-background));\n",
       "  background-size: 2px 100%;\n",
       "  background-repeat: no-repeat;\n",
       "  background-position: center center;\n",
       "}\n",
       "\n",
       "/* Parallel-specific style estimator block */\n",
       "\n",
       "#sk-container-id-25 div.sk-parallel-item::after {\n",
       "  content: \"\";\n",
       "  width: 100%;\n",
       "  border-bottom: 2px solid var(--sklearn-color-text-on-default-background);\n",
       "  flex-grow: 1;\n",
       "}\n",
       "\n",
       "#sk-container-id-25 div.sk-parallel {\n",
       "  display: flex;\n",
       "  align-items: stretch;\n",
       "  justify-content: center;\n",
       "  background-color: var(--sklearn-color-background);\n",
       "  position: relative;\n",
       "}\n",
       "\n",
       "#sk-container-id-25 div.sk-parallel-item {\n",
       "  display: flex;\n",
       "  flex-direction: column;\n",
       "}\n",
       "\n",
       "#sk-container-id-25 div.sk-parallel-item:first-child::after {\n",
       "  align-self: flex-end;\n",
       "  width: 50%;\n",
       "}\n",
       "\n",
       "#sk-container-id-25 div.sk-parallel-item:last-child::after {\n",
       "  align-self: flex-start;\n",
       "  width: 50%;\n",
       "}\n",
       "\n",
       "#sk-container-id-25 div.sk-parallel-item:only-child::after {\n",
       "  width: 0;\n",
       "}\n",
       "\n",
       "/* Serial-specific style estimator block */\n",
       "\n",
       "#sk-container-id-25 div.sk-serial {\n",
       "  display: flex;\n",
       "  flex-direction: column;\n",
       "  align-items: center;\n",
       "  background-color: var(--sklearn-color-background);\n",
       "  padding-right: 1em;\n",
       "  padding-left: 1em;\n",
       "}\n",
       "\n",
       "\n",
       "/* Toggleable style: style used for estimator/Pipeline/ColumnTransformer box that is\n",
       "clickable and can be expanded/collapsed.\n",
       "- Pipeline and ColumnTransformer use this feature and define the default style\n",
       "- Estimators will overwrite some part of the style using the `sk-estimator` class\n",
       "*/\n",
       "\n",
       "/* Pipeline and ColumnTransformer style (default) */\n",
       "\n",
       "#sk-container-id-25 div.sk-toggleable {\n",
       "  /* Default theme specific background. It is overwritten whether we have a\n",
       "  specific estimator or a Pipeline/ColumnTransformer */\n",
       "  background-color: var(--sklearn-color-background);\n",
       "}\n",
       "\n",
       "/* Toggleable label */\n",
       "#sk-container-id-25 label.sk-toggleable__label {\n",
       "  cursor: pointer;\n",
       "  display: flex;\n",
       "  width: 100%;\n",
       "  margin-bottom: 0;\n",
       "  padding: 0.5em;\n",
       "  box-sizing: border-box;\n",
       "  text-align: center;\n",
       "  align-items: start;\n",
       "  justify-content: space-between;\n",
       "  gap: 0.5em;\n",
       "}\n",
       "\n",
       "#sk-container-id-25 label.sk-toggleable__label .caption {\n",
       "  font-size: 0.6rem;\n",
       "  font-weight: lighter;\n",
       "  color: var(--sklearn-color-text-muted);\n",
       "}\n",
       "\n",
       "#sk-container-id-25 label.sk-toggleable__label-arrow:before {\n",
       "  /* Arrow on the left of the label */\n",
       "  content: \"▸\";\n",
       "  float: left;\n",
       "  margin-right: 0.25em;\n",
       "  color: var(--sklearn-color-icon);\n",
       "}\n",
       "\n",
       "#sk-container-id-25 label.sk-toggleable__label-arrow:hover:before {\n",
       "  color: var(--sklearn-color-text);\n",
       "}\n",
       "\n",
       "/* Toggleable content - dropdown */\n",
       "\n",
       "#sk-container-id-25 div.sk-toggleable__content {\n",
       "  max-height: 0;\n",
       "  max-width: 0;\n",
       "  overflow: hidden;\n",
       "  text-align: left;\n",
       "  /* unfitted */\n",
       "  background-color: var(--sklearn-color-unfitted-level-0);\n",
       "}\n",
       "\n",
       "#sk-container-id-25 div.sk-toggleable__content.fitted {\n",
       "  /* fitted */\n",
       "  background-color: var(--sklearn-color-fitted-level-0);\n",
       "}\n",
       "\n",
       "#sk-container-id-25 div.sk-toggleable__content pre {\n",
       "  margin: 0.2em;\n",
       "  border-radius: 0.25em;\n",
       "  color: var(--sklearn-color-text);\n",
       "  /* unfitted */\n",
       "  background-color: var(--sklearn-color-unfitted-level-0);\n",
       "}\n",
       "\n",
       "#sk-container-id-25 div.sk-toggleable__content.fitted pre {\n",
       "  /* unfitted */\n",
       "  background-color: var(--sklearn-color-fitted-level-0);\n",
       "}\n",
       "\n",
       "#sk-container-id-25 input.sk-toggleable__control:checked~div.sk-toggleable__content {\n",
       "  /* Expand drop-down */\n",
       "  max-height: 200px;\n",
       "  max-width: 100%;\n",
       "  overflow: auto;\n",
       "}\n",
       "\n",
       "#sk-container-id-25 input.sk-toggleable__control:checked~label.sk-toggleable__label-arrow:before {\n",
       "  content: \"▾\";\n",
       "}\n",
       "\n",
       "/* Pipeline/ColumnTransformer-specific style */\n",
       "\n",
       "#sk-container-id-25 div.sk-label input.sk-toggleable__control:checked~label.sk-toggleable__label {\n",
       "  color: var(--sklearn-color-text);\n",
       "  background-color: var(--sklearn-color-unfitted-level-2);\n",
       "}\n",
       "\n",
       "#sk-container-id-25 div.sk-label.fitted input.sk-toggleable__control:checked~label.sk-toggleable__label {\n",
       "  background-color: var(--sklearn-color-fitted-level-2);\n",
       "}\n",
       "\n",
       "/* Estimator-specific style */\n",
       "\n",
       "/* Colorize estimator box */\n",
       "#sk-container-id-25 div.sk-estimator input.sk-toggleable__control:checked~label.sk-toggleable__label {\n",
       "  /* unfitted */\n",
       "  background-color: var(--sklearn-color-unfitted-level-2);\n",
       "}\n",
       "\n",
       "#sk-container-id-25 div.sk-estimator.fitted input.sk-toggleable__control:checked~label.sk-toggleable__label {\n",
       "  /* fitted */\n",
       "  background-color: var(--sklearn-color-fitted-level-2);\n",
       "}\n",
       "\n",
       "#sk-container-id-25 div.sk-label label.sk-toggleable__label,\n",
       "#sk-container-id-25 div.sk-label label {\n",
       "  /* The background is the default theme color */\n",
       "  color: var(--sklearn-color-text-on-default-background);\n",
       "}\n",
       "\n",
       "/* On hover, darken the color of the background */\n",
       "#sk-container-id-25 div.sk-label:hover label.sk-toggleable__label {\n",
       "  color: var(--sklearn-color-text);\n",
       "  background-color: var(--sklearn-color-unfitted-level-2);\n",
       "}\n",
       "\n",
       "/* Label box, darken color on hover, fitted */\n",
       "#sk-container-id-25 div.sk-label.fitted:hover label.sk-toggleable__label.fitted {\n",
       "  color: var(--sklearn-color-text);\n",
       "  background-color: var(--sklearn-color-fitted-level-2);\n",
       "}\n",
       "\n",
       "/* Estimator label */\n",
       "\n",
       "#sk-container-id-25 div.sk-label label {\n",
       "  font-family: monospace;\n",
       "  font-weight: bold;\n",
       "  display: inline-block;\n",
       "  line-height: 1.2em;\n",
       "}\n",
       "\n",
       "#sk-container-id-25 div.sk-label-container {\n",
       "  text-align: center;\n",
       "}\n",
       "\n",
       "/* Estimator-specific */\n",
       "#sk-container-id-25 div.sk-estimator {\n",
       "  font-family: monospace;\n",
       "  border: 1px dotted var(--sklearn-color-border-box);\n",
       "  border-radius: 0.25em;\n",
       "  box-sizing: border-box;\n",
       "  margin-bottom: 0.5em;\n",
       "  /* unfitted */\n",
       "  background-color: var(--sklearn-color-unfitted-level-0);\n",
       "}\n",
       "\n",
       "#sk-container-id-25 div.sk-estimator.fitted {\n",
       "  /* fitted */\n",
       "  background-color: var(--sklearn-color-fitted-level-0);\n",
       "}\n",
       "\n",
       "/* on hover */\n",
       "#sk-container-id-25 div.sk-estimator:hover {\n",
       "  /* unfitted */\n",
       "  background-color: var(--sklearn-color-unfitted-level-2);\n",
       "}\n",
       "\n",
       "#sk-container-id-25 div.sk-estimator.fitted:hover {\n",
       "  /* fitted */\n",
       "  background-color: var(--sklearn-color-fitted-level-2);\n",
       "}\n",
       "\n",
       "/* Specification for estimator info (e.g. \"i\" and \"?\") */\n",
       "\n",
       "/* Common style for \"i\" and \"?\" */\n",
       "\n",
       ".sk-estimator-doc-link,\n",
       "a:link.sk-estimator-doc-link,\n",
       "a:visited.sk-estimator-doc-link {\n",
       "  float: right;\n",
       "  font-size: smaller;\n",
       "  line-height: 1em;\n",
       "  font-family: monospace;\n",
       "  background-color: var(--sklearn-color-background);\n",
       "  border-radius: 1em;\n",
       "  height: 1em;\n",
       "  width: 1em;\n",
       "  text-decoration: none !important;\n",
       "  margin-left: 0.5em;\n",
       "  text-align: center;\n",
       "  /* unfitted */\n",
       "  border: var(--sklearn-color-unfitted-level-1) 1pt solid;\n",
       "  color: var(--sklearn-color-unfitted-level-1);\n",
       "}\n",
       "\n",
       ".sk-estimator-doc-link.fitted,\n",
       "a:link.sk-estimator-doc-link.fitted,\n",
       "a:visited.sk-estimator-doc-link.fitted {\n",
       "  /* fitted */\n",
       "  border: var(--sklearn-color-fitted-level-1) 1pt solid;\n",
       "  color: var(--sklearn-color-fitted-level-1);\n",
       "}\n",
       "\n",
       "/* On hover */\n",
       "div.sk-estimator:hover .sk-estimator-doc-link:hover,\n",
       ".sk-estimator-doc-link:hover,\n",
       "div.sk-label-container:hover .sk-estimator-doc-link:hover,\n",
       ".sk-estimator-doc-link:hover {\n",
       "  /* unfitted */\n",
       "  background-color: var(--sklearn-color-unfitted-level-3);\n",
       "  color: var(--sklearn-color-background);\n",
       "  text-decoration: none;\n",
       "}\n",
       "\n",
       "div.sk-estimator.fitted:hover .sk-estimator-doc-link.fitted:hover,\n",
       ".sk-estimator-doc-link.fitted:hover,\n",
       "div.sk-label-container:hover .sk-estimator-doc-link.fitted:hover,\n",
       ".sk-estimator-doc-link.fitted:hover {\n",
       "  /* fitted */\n",
       "  background-color: var(--sklearn-color-fitted-level-3);\n",
       "  color: var(--sklearn-color-background);\n",
       "  text-decoration: none;\n",
       "}\n",
       "\n",
       "/* Span, style for the box shown on hovering the info icon */\n",
       ".sk-estimator-doc-link span {\n",
       "  display: none;\n",
       "  z-index: 9999;\n",
       "  position: relative;\n",
       "  font-weight: normal;\n",
       "  right: .2ex;\n",
       "  padding: .5ex;\n",
       "  margin: .5ex;\n",
       "  width: min-content;\n",
       "  min-width: 20ex;\n",
       "  max-width: 50ex;\n",
       "  color: var(--sklearn-color-text);\n",
       "  box-shadow: 2pt 2pt 4pt #999;\n",
       "  /* unfitted */\n",
       "  background: var(--sklearn-color-unfitted-level-0);\n",
       "  border: .5pt solid var(--sklearn-color-unfitted-level-3);\n",
       "}\n",
       "\n",
       ".sk-estimator-doc-link.fitted span {\n",
       "  /* fitted */\n",
       "  background: var(--sklearn-color-fitted-level-0);\n",
       "  border: var(--sklearn-color-fitted-level-3);\n",
       "}\n",
       "\n",
       ".sk-estimator-doc-link:hover span {\n",
       "  display: block;\n",
       "}\n",
       "\n",
       "/* \"?\"-specific style due to the `<a>` HTML tag */\n",
       "\n",
       "#sk-container-id-25 a.estimator_doc_link {\n",
       "  float: right;\n",
       "  font-size: 1rem;\n",
       "  line-height: 1em;\n",
       "  font-family: monospace;\n",
       "  background-color: var(--sklearn-color-background);\n",
       "  border-radius: 1rem;\n",
       "  height: 1rem;\n",
       "  width: 1rem;\n",
       "  text-decoration: none;\n",
       "  /* unfitted */\n",
       "  color: var(--sklearn-color-unfitted-level-1);\n",
       "  border: var(--sklearn-color-unfitted-level-1) 1pt solid;\n",
       "}\n",
       "\n",
       "#sk-container-id-25 a.estimator_doc_link.fitted {\n",
       "  /* fitted */\n",
       "  border: var(--sklearn-color-fitted-level-1) 1pt solid;\n",
       "  color: var(--sklearn-color-fitted-level-1);\n",
       "}\n",
       "\n",
       "/* On hover */\n",
       "#sk-container-id-25 a.estimator_doc_link:hover {\n",
       "  /* unfitted */\n",
       "  background-color: var(--sklearn-color-unfitted-level-3);\n",
       "  color: var(--sklearn-color-background);\n",
       "  text-decoration: none;\n",
       "}\n",
       "\n",
       "#sk-container-id-25 a.estimator_doc_link.fitted:hover {\n",
       "  /* fitted */\n",
       "  background-color: var(--sklearn-color-fitted-level-3);\n",
       "}\n",
       "</style><div id=\"sk-container-id-25\" class=\"sk-top-container\"><div class=\"sk-text-repr-fallback\"><pre>Ridge(positive=True)</pre><b>In a Jupyter environment, please rerun this cell to show the HTML representation or trust the notebook. <br />On GitHub, the HTML representation is unable to render, please try loading this page with nbviewer.org.</b></div><div class=\"sk-container\" hidden><div class=\"sk-item\"><div class=\"sk-estimator fitted sk-toggleable\"><input class=\"sk-toggleable__control sk-hidden--visually\" id=\"sk-estimator-id-33\" type=\"checkbox\" checked><label for=\"sk-estimator-id-33\" class=\"sk-toggleable__label fitted sk-toggleable__label-arrow\"><div><div>Ridge</div></div><div><a class=\"sk-estimator-doc-link fitted\" rel=\"noreferrer\" target=\"_blank\" href=\"https://scikit-learn.org/1.6/modules/generated/sklearn.linear_model.Ridge.html\">?<span>Documentation for Ridge</span></a><span class=\"sk-estimator-doc-link fitted\">i<span>Fitted</span></span></div></label><div class=\"sk-toggleable__content fitted\"><pre>Ridge(positive=True)</pre></div> </div></div></div></div>"
      ]
     },
     "execution_count": 547,
     "metadata": {},
     "output_type": "execute_result"
    }
   ],
   "execution_count": 547
  },
  {
   "metadata": {
    "ExecuteTime": {
     "end_time": "2025-04-11T20:21:06.962440Z",
     "start_time": "2025-04-11T20:21:06.959279Z"
    }
   },
   "cell_type": "code",
   "source": [
    "##Test Accuracy\n",
    "y_pred = ridge.predict(X_test_bf)\n",
    "MAE = mean_absolute_error(Y_test, y_pred)\n",
    "MSE = mean_squared_error(Y_test, y_pred)\n",
    "R2 = r2_score(Y_test, y_pred)\n",
    "RMSE = np.sqrt(MSE)\n",
    "print(MAE, MSE, RMSE, R2)"
   ],
   "id": "42d3de7a7fdd7540",
   "outputs": [
    {
     "name": "stdout",
     "output_type": "stream",
     "text": [
      "0.7552672018880547 0.8908663234639201 0.9438571520436343 -0.012525822280164967\n"
     ]
    }
   ],
   "execution_count": 548
  },
  {
   "metadata": {
    "ExecuteTime": {
     "end_time": "2025-04-11T20:21:15.364124Z",
     "start_time": "2025-04-11T20:21:06.987284Z"
    }
   },
   "cell_type": "code",
   "source": [
    "##KNN Regression\n",
    "from sklearn.neighbors import KNeighborsRegressor\n",
    "from sklearn.model_selection import cross_val_score\n",
    "\n",
    "k_range = range(1, 500)\n",
    "cv_scores = []\n",
    "\n",
    "##Fit the Model\n",
    "for k in k_range:\n",
    "    knnreg = KNeighborsRegressor(n_neighbors=k)\n",
    "    score = cross_val_score(knnreg, X_lr, Y_lr, cv = 5, scoring = 'neg_mean_squared_error')\n",
    "    cv_scores.append(score.mean())\n",
    "\n",
    "best_k = k_range[np.argmax(cv_scores)]\n",
    "# Plotting k vs performance\n",
    "plt.figure(figsize=(10, 5))\n",
    "plt.plot(k_range, cv_scores, marker='o')\n",
    "plt.xlabel('Number of Neighbors (k)')\n",
    "plt.ylabel('Cross-Validated Score')\n",
    "plt.title('K vs Model Performance')\n",
    "plt.grid(True)\n",
    "plt.show()\n",
    "print(best_k)"
   ],
   "id": "a6ce733f8cbf9845",
   "outputs": [
    {
     "data": {
      "text/plain": [
       "<Figure size 1000x500 with 1 Axes>"
      ],
      "image/png": "[encoded data removed]"
     },
     "metadata": {},
     "output_type": "display_data"
    },
    {
     "name": "stdout",
     "output_type": "stream",
     "text": [
      "21\n"
     ]
    }
   ],
   "execution_count": 549
  },
  {
   "metadata": {
    "ExecuteTime": {
     "end_time": "2025-04-11T20:21:15.396806Z",
     "start_time": "2025-04-11T20:21:15.391554Z"
    }
   },
   "cell_type": "code",
   "source": [
    "##Test Accuracy\n",
    "knnreg = KNeighborsRegressor(n_neighbors=best_k)\n",
    "knnreg.fit(X_train, Y_train)\n",
    "y_pred= knnreg.predict(X_test)\n",
    "MAE = mean_absolute_error(Y_test, y_pred)\n",
    "MSE = mean_squared_error(Y_test, y_pred)\n",
    "R2 = r2_score(Y_test, y_pred)\n",
    "RMSE = np.sqrt(MSE)\n",
    "print(MAE, MSE, RMSE, R2)"
   ],
   "id": "9138d0fa9ced3db6",
   "outputs": [
    {
     "name": "stdout",
     "output_type": "stream",
     "text": [
      "0.6497046953794486 0.6457282611780175 0.8035721879072331 0.26608906252443754\n"
     ]
    }
   ],
   "execution_count": 550
  },
  {
   "metadata": {
    "ExecuteTime": {
     "end_time": "2025-04-11T20:21:15.426548Z",
     "start_time": "2025-04-11T20:21:15.425117Z"
    }
   },
   "cell_type": "code",
   "source": "",
   "id": "79af288e0ebfbb1b",
   "outputs": [],
   "execution_count": null
  },
  {
   "metadata": {
    "ExecuteTime": {
     "end_time": "2025-04-11T20:21:15.459066Z",
     "start_time": "2025-04-11T20:21:15.453209Z"
    }
   },
   "cell_type": "code",
   "source": [
    "##Clean age_unknown\n",
    "age_unknown_X = age_unknown.drop([\"Age\"], axis=1)\n",
    "age_unknown_X"
   ],
   "id": "b217f0643185abb6",
   "outputs": [
    {
     "data": {
      "text/plain": [
       "     PassengerId   Pclass    SibSp    Parch     Fare  Survived  Sex_female  \\\n",
       "5       -1.71067  0.82738 -0.47455 -0.47367 -0.47812   0.00000     0.00000   \n",
       "17      -1.66401 -0.36936 -0.47455 -0.47367 -0.38667   1.00000     0.00000   \n",
       "19      -1.65624  0.82738 -0.47455 -0.47367 -0.50295   1.00000     1.00000   \n",
       "26      -1.62902  0.82738 -0.47455 -0.47367 -0.50295   0.00000     0.00000   \n",
       "28      -1.62125  0.82738 -0.47455 -0.47367 -0.48978   1.00000     1.00000   \n",
       "..           ...      ...      ...      ...      ...       ...         ...   \n",
       "859      1.60958  0.82738 -0.47455 -0.47367 -0.50286   0.00000     0.00000   \n",
       "863      1.62514  0.82738  6.78416  2.00893  0.75195   0.00000     1.00000   \n",
       "868      1.64457  0.82738 -0.47455 -0.47367 -0.45714   0.00000     0.00000   \n",
       "878      1.68345  0.82738 -0.47455 -0.47367 -0.48944   0.00000     0.00000   \n",
       "888      1.72233  0.82738  0.43279  2.00893 -0.17626   0.00000     1.00000   \n",
       "\n",
       "     Sex_male  Embarked_C  Embarked_Q  Embarked_S  \n",
       "5     1.00000     0.00000     1.00000     0.00000  \n",
       "17    1.00000     0.00000     0.00000     1.00000  \n",
       "19    0.00000     1.00000     0.00000     0.00000  \n",
       "26    1.00000     1.00000     0.00000     0.00000  \n",
       "28    0.00000     0.00000     1.00000     0.00000  \n",
       "..        ...         ...         ...         ...  \n",
       "859   1.00000     1.00000     0.00000     0.00000  \n",
       "863   0.00000     0.00000     0.00000     1.00000  \n",
       "868   1.00000     0.00000     0.00000     1.00000  \n",
       "878   1.00000     0.00000     0.00000     1.00000  \n",
       "888   0.00000     0.00000     0.00000     1.00000  \n",
       "\n",
       "[177 rows x 11 columns]"
      ],
      "text/html": [
       "<div>\n",
       "<style scoped>\n",
       "    .dataframe tbody tr th:only-of-type {\n",
       "        vertical-align: middle;\n",
       "    }\n",
       "\n",
       "    .dataframe tbody tr th {\n",
       "        vertical-align: top;\n",
       "    }\n",
       "\n",
       "    .dataframe thead th {\n",
       "        text-align: right;\n",
       "    }\n",
       "</style>\n",
       "<table border=\"1\" class=\"dataframe\">\n",
       "  <thead>\n",
       "    <tr style=\"text-align: right;\">\n",
       "      <th></th>\n",
       "      <th>PassengerId</th>\n",
       "      <th>Pclass</th>\n",
       "      <th>SibSp</th>\n",
       "      <th>Parch</th>\n",
       "      <th>Fare</th>\n",
       "      <th>Survived</th>\n",
       "      <th>Sex_female</th>\n",
       "      <th>Sex_male</th>\n",
       "      <th>Embarked_C</th>\n",
       "      <th>Embarked_Q</th>\n",
       "      <th>Embarked_S</th>\n",
       "    </tr>\n",
       "  </thead>\n",
       "  <tbody>\n",
       "    <tr>\n",
       "      <th>5</th>\n",
       "      <td>-1.71067</td>\n",
       "      <td>0.82738</td>\n",
       "      <td>-0.47455</td>\n",
       "      <td>-0.47367</td>\n",
       "      <td>-0.47812</td>\n",
       "      <td>0.00000</td>\n",
       "      <td>0.00000</td>\n",
       "      <td>1.00000</td>\n",
       "      <td>0.00000</td>\n",
       "      <td>1.00000</td>\n",
       "      <td>0.00000</td>\n",
       "    </tr>\n",
       "    <tr>\n",
       "      <th>17</th>\n",
       "      <td>-1.66401</td>\n",
       "      <td>-0.36936</td>\n",
       "      <td>-0.47455</td>\n",
       "      <td>-0.47367</td>\n",
       "      <td>-0.38667</td>\n",
       "      <td>1.00000</td>\n",
       "      <td>0.00000</td>\n",
       "      <td>1.00000</td>\n",
       "      <td>0.00000</td>\n",
       "      <td>0.00000</td>\n",
       "      <td>1.00000</td>\n",
       "    </tr>\n",
       "    <tr>\n",
       "      <th>19</th>\n",
       "      <td>-1.65624</td>\n",
       "      <td>0.82738</td>\n",
       "      <td>-0.47455</td>\n",
       "      <td>-0.47367</td>\n",
       "      <td>-0.50295</td>\n",
       "      <td>1.00000</td>\n",
       "      <td>1.00000</td>\n",
       "      <td>0.00000</td>\n",
       "      <td>1.00000</td>\n",
       "      <td>0.00000</td>\n",
       "      <td>0.00000</td>\n",
       "    </tr>\n",
       "    <tr>\n",
       "      <th>26</th>\n",
       "      <td>-1.62902</td>\n",
       "      <td>0.82738</td>\n",
       "      <td>-0.47455</td>\n",
       "      <td>-0.47367</td>\n",
       "      <td>-0.50295</td>\n",
       "      <td>0.00000</td>\n",
       "      <td>0.00000</td>\n",
       "      <td>1.00000</td>\n",
       "      <td>1.00000</td>\n",
       "      <td>0.00000</td>\n",
       "      <td>0.00000</td>\n",
       "    </tr>\n",
       "    <tr>\n",
       "      <th>28</th>\n",
       "      <td>-1.62125</td>\n",
       "      <td>0.82738</td>\n",
       "      <td>-0.47455</td>\n",
       "      <td>-0.47367</td>\n",
       "      <td>-0.48978</td>\n",
       "      <td>1.00000</td>\n",
       "      <td>1.00000</td>\n",
       "      <td>0.00000</td>\n",
       "      <td>0.00000</td>\n",
       "      <td>1.00000</td>\n",
       "      <td>0.00000</td>\n",
       "    </tr>\n",
       "    <tr>\n",
       "      <th>...</th>\n",
       "      <td>...</td>\n",
       "      <td>...</td>\n",
       "      <td>...</td>\n",
       "      <td>...</td>\n",
       "      <td>...</td>\n",
       "      <td>...</td>\n",
       "      <td>...</td>\n",
       "      <td>...</td>\n",
       "      <td>...</td>\n",
       "      <td>...</td>\n",
       "      <td>...</td>\n",
       "    </tr>\n",
       "    <tr>\n",
       "      <th>859</th>\n",
       "      <td>1.60958</td>\n",
       "      <td>0.82738</td>\n",
       "      <td>-0.47455</td>\n",
       "      <td>-0.47367</td>\n",
       "      <td>-0.50286</td>\n",
       "      <td>0.00000</td>\n",
       "      <td>0.00000</td>\n",
       "      <td>1.00000</td>\n",
       "      <td>1.00000</td>\n",
       "      <td>0.00000</td>\n",
       "      <td>0.00000</td>\n",
       "    </tr>\n",
       "    <tr>\n",
       "      <th>863</th>\n",
       "      <td>1.62514</td>\n",
       "      <td>0.82738</td>\n",
       "      <td>6.78416</td>\n",
       "      <td>2.00893</td>\n",
       "      <td>0.75195</td>\n",
       "      <td>0.00000</td>\n",
       "      <td>1.00000</td>\n",
       "      <td>0.00000</td>\n",
       "      <td>0.00000</td>\n",
       "      <td>0.00000</td>\n",
       "      <td>1.00000</td>\n",
       "    </tr>\n",
       "    <tr>\n",
       "      <th>868</th>\n",
       "      <td>1.64457</td>\n",
       "      <td>0.82738</td>\n",
       "      <td>-0.47455</td>\n",
       "      <td>-0.47367</td>\n",
       "      <td>-0.45714</td>\n",
       "      <td>0.00000</td>\n",
       "      <td>0.00000</td>\n",
       "      <td>1.00000</td>\n",
       "      <td>0.00000</td>\n",
       "      <td>0.00000</td>\n",
       "      <td>1.00000</td>\n",
       "    </tr>\n",
       "    <tr>\n",
       "      <th>878</th>\n",
       "      <td>1.68345</td>\n",
       "      <td>0.82738</td>\n",
       "      <td>-0.47455</td>\n",
       "      <td>-0.47367</td>\n",
       "      <td>-0.48944</td>\n",
       "      <td>0.00000</td>\n",
       "      <td>0.00000</td>\n",
       "      <td>1.00000</td>\n",
       "      <td>0.00000</td>\n",
       "      <td>0.00000</td>\n",
       "      <td>1.00000</td>\n",
       "    </tr>\n",
       "    <tr>\n",
       "      <th>888</th>\n",
       "      <td>1.72233</td>\n",
       "      <td>0.82738</td>\n",
       "      <td>0.43279</td>\n",
       "      <td>2.00893</td>\n",
       "      <td>-0.17626</td>\n",
       "      <td>0.00000</td>\n",
       "      <td>1.00000</td>\n",
       "      <td>0.00000</td>\n",
       "      <td>0.00000</td>\n",
       "      <td>0.00000</td>\n",
       "      <td>1.00000</td>\n",
       "    </tr>\n",
       "  </tbody>\n",
       "</table>\n",
       "<p>177 rows × 11 columns</p>\n",
       "</div>"
      ]
     },
     "execution_count": 551,
     "metadata": {},
     "output_type": "execute_result"
    }
   ],
   "execution_count": 551
  },
  {
   "metadata": {},
   "cell_type": "markdown",
   "source": "### Replacing the missing ages with our predictions based on the best model which ended up being poisson regression",
   "id": "e29ee3ea0c654a09"
  },
  {
   "metadata": {
    "ExecuteTime": {
     "end_time": "2025-04-11T20:21:15.508416Z",
     "start_time": "2025-04-11T20:21:15.505202Z"
    }
   },
   "cell_type": "code",
   "source": [
    "##Predict ages with best model\n",
    "age_predictions = knnreg.predict(age_unknown_X)"
   ],
   "id": "b736c655c63bb3d1",
   "outputs": [],
   "execution_count": 552
  },
  {
   "metadata": {
    "ExecuteTime": {
     "end_time": "2025-04-11T20:21:15.543011Z",
     "start_time": "2025-04-11T20:21:15.540921Z"
    }
   },
   "cell_type": "code",
   "source": [
    "##Replace Values\n",
    "titanic_ct.loc[titanic_ct[\"Age\"].isna(), \"Age\"] = age_predictions"
   ],
   "id": "265f48896d6e179c",
   "outputs": [],
   "execution_count": 553
  },
  {
   "metadata": {
    "ExecuteTime": {
     "end_time": "2025-04-11T20:21:15.597024Z",
     "start_time": "2025-04-11T20:21:15.594120Z"
    }
   },
   "cell_type": "code",
   "source": [
    "##Undo scale and add to titanic\n",
    "titanic_ct = scaler.inverse_transform(titanic_ct[num_features])"
   ],
   "id": "be35340f60b9a178",
   "outputs": [],
   "execution_count": 554
  },
  {
   "metadata": {
    "ExecuteTime": {
     "end_time": "2025-04-11T20:21:15.634595Z",
     "start_time": "2025-04-11T20:21:15.631604Z"
    }
   },
   "cell_type": "code",
   "source": [
    "titanic_ct = pd.DataFrame(titanic_ct, columns = [num_features])\n",
    "titanic[num_features] = titanic_ct[num_features]"
   ],
   "id": "42451757aa124987",
   "outputs": [],
   "execution_count": 555
  },
  {
   "metadata": {
    "ExecuteTime": {
     "end_time": "2025-04-11T20:21:15.648809Z",
     "start_time": "2025-04-11T20:21:15.639728Z"
    }
   },
   "cell_type": "code",
   "source": [
    "\n",
    "titanic_ct = ct.fit_transform(titanic)\n",
    "titanic_ct = pd.DataFrame(titanic_ct, columns = [num_features + cat_features])\n",
    "titanic_ct"
   ],
   "id": "817fa1fff629dbd",
   "outputs": [
    {
     "data": {
      "text/plain": [
       "    PassengerId   Pclass      Age    SibSp    Parch     Fare Survived  \\\n",
       "0      -1.73011  0.82738 -0.57048  0.43279 -0.47367 -0.50245  0.00000   \n",
       "1      -1.72622 -1.56611  0.61617  0.43279 -0.47367  0.78685  1.00000   \n",
       "2      -1.72233  0.82738 -0.27382 -0.47455 -0.47367 -0.48885  1.00000   \n",
       "3      -1.71844 -1.56611  0.39367  0.43279 -0.47367  0.42073  1.00000   \n",
       "4      -1.71456  0.82738  0.39367 -0.47455 -0.47367 -0.48634  0.00000   \n",
       "..          ...      ...      ...      ...      ...      ...      ...   \n",
       "886     1.71456 -0.36936 -0.19965 -0.47455 -0.47367 -0.38667  0.00000   \n",
       "887     1.71844 -1.56611 -0.79298 -0.47455 -0.47367 -0.04438  1.00000   \n",
       "888     1.72233  0.82738 -0.54576  0.43279  2.00893 -0.17626  0.00000   \n",
       "889     1.72622 -1.56611 -0.27382 -0.47455 -0.47367 -0.04438  1.00000   \n",
       "890     1.73011  0.82738  0.17117 -0.47455 -0.47367 -0.49238  0.00000   \n",
       "\n",
       "    Sex_female Sex_male Embarked_C Embarked_Q Embarked_S  \n",
       "0      0.00000  1.00000    0.00000    0.00000    1.00000  \n",
       "1      1.00000  0.00000    1.00000    0.00000    0.00000  \n",
       "2      1.00000  0.00000    0.00000    0.00000    1.00000  \n",
       "3      1.00000  0.00000    0.00000    0.00000    1.00000  \n",
       "4      0.00000  1.00000    0.00000    0.00000    1.00000  \n",
       "..         ...      ...        ...        ...        ...  \n",
       "886    0.00000  1.00000    0.00000    0.00000    1.00000  \n",
       "887    1.00000  0.00000    0.00000    0.00000    1.00000  \n",
       "888    1.00000  0.00000    0.00000    0.00000    1.00000  \n",
       "889    0.00000  1.00000    1.00000    0.00000    0.00000  \n",
       "890    0.00000  1.00000    0.00000    1.00000    0.00000  \n",
       "\n",
       "[891 rows x 12 columns]"
      ],
      "text/html": [
       "<div>\n",
       "<style scoped>\n",
       "    .dataframe tbody tr th:only-of-type {\n",
       "        vertical-align: middle;\n",
       "    }\n",
       "\n",
       "    .dataframe tbody tr th {\n",
       "        vertical-align: top;\n",
       "    }\n",
       "\n",
       "    .dataframe thead tr th {\n",
       "        text-align: left;\n",
       "    }\n",
       "</style>\n",
       "<table border=\"1\" class=\"dataframe\">\n",
       "  <thead>\n",
       "    <tr>\n",
       "      <th></th>\n",
       "      <th>PassengerId</th>\n",
       "      <th>Pclass</th>\n",
       "      <th>Age</th>\n",
       "      <th>SibSp</th>\n",
       "      <th>Parch</th>\n",
       "      <th>Fare</th>\n",
       "      <th>Survived</th>\n",
       "      <th>Sex_female</th>\n",
       "      <th>Sex_male</th>\n",
       "      <th>Embarked_C</th>\n",
       "      <th>Embarked_Q</th>\n",
       "      <th>Embarked_S</th>\n",
       "    </tr>\n",
       "  </thead>\n",
       "  <tbody>\n",
       "    <tr>\n",
       "      <th>0</th>\n",
       "      <td>-1.73011</td>\n",
       "      <td>0.82738</td>\n",
       "      <td>-0.57048</td>\n",
       "      <td>0.43279</td>\n",
       "      <td>-0.47367</td>\n",
       "      <td>-0.50245</td>\n",
       "      <td>0.00000</td>\n",
       "      <td>0.00000</td>\n",
       "      <td>1.00000</td>\n",
       "      <td>0.00000</td>\n",
       "      <td>0.00000</td>\n",
       "      <td>1.00000</td>\n",
       "    </tr>\n",
       "    <tr>\n",
       "      <th>1</th>\n",
       "      <td>-1.72622</td>\n",
       "      <td>-1.56611</td>\n",
       "      <td>0.61617</td>\n",
       "      <td>0.43279</td>\n",
       "      <td>-0.47367</td>\n",
       "      <td>0.78685</td>\n",
       "      <td>1.00000</td>\n",
       "      <td>1.00000</td>\n",
       "      <td>0.00000</td>\n",
       "      <td>1.00000</td>\n",
       "      <td>0.00000</td>\n",
       "      <td>0.00000</td>\n",
       "    </tr>\n",
       "    <tr>\n",
       "      <th>2</th>\n",
       "      <td>-1.72233</td>\n",
       "      <td>0.82738</td>\n",
       "      <td>-0.27382</td>\n",
       "      <td>-0.47455</td>\n",
       "      <td>-0.47367</td>\n",
       "      <td>-0.48885</td>\n",
       "      <td>1.00000</td>\n",
       "      <td>1.00000</td>\n",
       "      <td>0.00000</td>\n",
       "      <td>0.00000</td>\n",
       "      <td>0.00000</td>\n",
       "      <td>1.00000</td>\n",
       "    </tr>\n",
       "    <tr>\n",
       "      <th>3</th>\n",
       "      <td>-1.71844</td>\n",
       "      <td>-1.56611</td>\n",
       "      <td>0.39367</td>\n",
       "      <td>0.43279</td>\n",
       "      <td>-0.47367</td>\n",
       "      <td>0.42073</td>\n",
       "      <td>1.00000</td>\n",
       "      <td>1.00000</td>\n",
       "      <td>0.00000</td>\n",
       "      <td>0.00000</td>\n",
       "      <td>0.00000</td>\n",
       "      <td>1.00000</td>\n",
       "    </tr>\n",
       "    <tr>\n",
       "      <th>4</th>\n",
       "      <td>-1.71456</td>\n",
       "      <td>0.82738</td>\n",
       "      <td>0.39367</td>\n",
       "      <td>-0.47455</td>\n",
       "      <td>-0.47367</td>\n",
       "      <td>-0.48634</td>\n",
       "      <td>0.00000</td>\n",
       "      <td>0.00000</td>\n",
       "      <td>1.00000</td>\n",
       "      <td>0.00000</td>\n",
       "      <td>0.00000</td>\n",
       "      <td>1.00000</td>\n",
       "    </tr>\n",
       "    <tr>\n",
       "      <th>...</th>\n",
       "      <td>...</td>\n",
       "      <td>...</td>\n",
       "      <td>...</td>\n",
       "      <td>...</td>\n",
       "      <td>...</td>\n",
       "      <td>...</td>\n",
       "      <td>...</td>\n",
       "      <td>...</td>\n",
       "      <td>...</td>\n",
       "      <td>...</td>\n",
       "      <td>...</td>\n",
       "      <td>...</td>\n",
       "    </tr>\n",
       "    <tr>\n",
       "      <th>886</th>\n",
       "      <td>1.71456</td>\n",
       "      <td>-0.36936</td>\n",
       "      <td>-0.19965</td>\n",
       "      <td>-0.47455</td>\n",
       "      <td>-0.47367</td>\n",
       "      <td>-0.38667</td>\n",
       "      <td>0.00000</td>\n",
       "      <td>0.00000</td>\n",
       "      <td>1.00000</td>\n",
       "      <td>0.00000</td>\n",
       "      <td>0.00000</td>\n",
       "      <td>1.00000</td>\n",
       "    </tr>\n",
       "    <tr>\n",
       "      <th>887</th>\n",
       "      <td>1.71844</td>\n",
       "      <td>-1.56611</td>\n",
       "      <td>-0.79298</td>\n",
       "      <td>-0.47455</td>\n",
       "      <td>-0.47367</td>\n",
       "      <td>-0.04438</td>\n",
       "      <td>1.00000</td>\n",
       "      <td>1.00000</td>\n",
       "      <td>0.00000</td>\n",
       "      <td>0.00000</td>\n",
       "      <td>0.00000</td>\n",
       "      <td>1.00000</td>\n",
       "    </tr>\n",
       "    <tr>\n",
       "      <th>888</th>\n",
       "      <td>1.72233</td>\n",
       "      <td>0.82738</td>\n",
       "      <td>-0.54576</td>\n",
       "      <td>0.43279</td>\n",
       "      <td>2.00893</td>\n",
       "      <td>-0.17626</td>\n",
       "      <td>0.00000</td>\n",
       "      <td>1.00000</td>\n",
       "      <td>0.00000</td>\n",
       "      <td>0.00000</td>\n",
       "      <td>0.00000</td>\n",
       "      <td>1.00000</td>\n",
       "    </tr>\n",
       "    <tr>\n",
       "      <th>889</th>\n",
       "      <td>1.72622</td>\n",
       "      <td>-1.56611</td>\n",
       "      <td>-0.27382</td>\n",
       "      <td>-0.47455</td>\n",
       "      <td>-0.47367</td>\n",
       "      <td>-0.04438</td>\n",
       "      <td>1.00000</td>\n",
       "      <td>0.00000</td>\n",
       "      <td>1.00000</td>\n",
       "      <td>1.00000</td>\n",
       "      <td>0.00000</td>\n",
       "      <td>0.00000</td>\n",
       "    </tr>\n",
       "    <tr>\n",
       "      <th>890</th>\n",
       "      <td>1.73011</td>\n",
       "      <td>0.82738</td>\n",
       "      <td>0.17117</td>\n",
       "      <td>-0.47455</td>\n",
       "      <td>-0.47367</td>\n",
       "      <td>-0.49238</td>\n",
       "      <td>0.00000</td>\n",
       "      <td>0.00000</td>\n",
       "      <td>1.00000</td>\n",
       "      <td>0.00000</td>\n",
       "      <td>1.00000</td>\n",
       "      <td>0.00000</td>\n",
       "    </tr>\n",
       "  </tbody>\n",
       "</table>\n",
       "<p>891 rows × 12 columns</p>\n",
       "</div>"
      ]
     },
     "execution_count": 556,
     "metadata": {},
     "output_type": "execute_result"
    }
   ],
   "execution_count": 556
  },
  {
   "metadata": {
    "ExecuteTime": {
     "end_time": "2025-04-11T20:21:15.787954Z",
     "start_time": "2025-04-11T20:21:15.695717Z"
    }
   },
   "cell_type": "code",
   "source": [
    "survived = titanic[titanic[\"Survived\"] == 1][\"Age\"]\n",
    "dead = titanic[titanic[\"Survived\"] == 0][\"Age\"]\n",
    "\n",
    "plt.figure(figsize=(8, 5))\n",
    "plt.hist([survived, dead], bins=20, stacked=True,\n",
    "         color=['green', 'red'], label=['Survived', 'Did not survive'])\n",
    "\n",
    "plt.xlabel('Age')\n",
    "plt.ylabel('Number of Passengers')\n",
    "plt.title('Age Distribution by Survival Status')\n",
    "plt.legend()\n",
    "plt.grid(axis='y', linestyle='--', alpha=0.6)\n",
    "\n",
    "plt.show()"
   ],
   "id": "b0709f4aef554341",
   "outputs": [
    {
     "data": {
      "text/plain": [
       "<Figure size 800x500 with 1 Axes>"
      ],
      "image/png": "[encoded data removed]"
     },
     "metadata": {},
     "output_type": "display_data"
    }
   ],
   "execution_count": 557
  },
  {
   "metadata": {},
   "cell_type": "markdown",
   "source": "### Train Test Split for prediction of our target variable",
   "id": "5286ec3f7815bb6"
  },
  {
   "metadata": {
    "ExecuteTime": {
     "end_time": "2025-04-11T20:21:15.814914Z",
     "start_time": "2025-04-11T20:21:15.811347Z"
    }
   },
   "cell_type": "code",
   "source": [
    "##Seperate X and Y for Survival Predictions\n",
    "titanic_ct.sort_index(ascending=True, inplace=True)"
   ],
   "id": "1b027c3c1dd6a619",
   "outputs": [],
   "execution_count": 558
  },
  {
   "metadata": {
    "ExecuteTime": {
     "end_time": "2025-04-11T20:21:15.827092Z",
     "start_time": "2025-04-11T20:21:15.824774Z"
    }
   },
   "cell_type": "code",
   "source": "print(titanic_ct.columns)",
   "id": "67215dbe178e2d1b",
   "outputs": [
    {
     "name": "stdout",
     "output_type": "stream",
     "text": [
      "MultiIndex([('PassengerId',),\n",
      "            (     'Pclass',),\n",
      "            (        'Age',),\n",
      "            (      'SibSp',),\n",
      "            (      'Parch',),\n",
      "            (       'Fare',),\n",
      "            (   'Survived',),\n",
      "            ( 'Sex_female',),\n",
      "            (   'Sex_male',),\n",
      "            ( 'Embarked_C',),\n",
      "            ( 'Embarked_Q',),\n",
      "            ( 'Embarked_S',)],\n",
      "           )\n"
     ]
    }
   ],
   "execution_count": 559
  },
  {
   "metadata": {
    "ExecuteTime": {
     "end_time": "2025-04-11T20:21:15.906099Z",
     "start_time": "2025-04-11T20:21:15.903039Z"
    }
   },
   "cell_type": "code",
   "source": [
    "\n",
    "titanic_Y = titanic_ct[\"Survived\"]\n",
    "titanic_X = titanic_ct.drop([\"Survived\"], axis=1, level = 0)\n"
   ],
   "id": "3d978e2d2255a4d3",
   "outputs": [],
   "execution_count": 560
  },
  {
   "metadata": {
    "ExecuteTime": {
     "end_time": "2025-04-11T20:21:15.942296Z",
     "start_time": "2025-04-11T20:21:15.938669Z"
    }
   },
   "cell_type": "code",
   "source": [
    " titanic_Y = titanic_Y.astype(\"int\")\n",
    " titanic_Y = titanic_Y[[\"Survived\"]].values\n"
   ],
   "id": "e27704d6b4c5e20c",
   "outputs": [],
   "execution_count": 561
  },
  {
   "metadata": {
    "ExecuteTime": {
     "end_time": "2025-04-11T20:21:20.511510Z",
     "start_time": "2025-04-11T20:21:20.509565Z"
    }
   },
   "cell_type": "code",
   "source": " titanic_Y  = titanic_Y.ravel()",
   "id": "30bd9ddf4e30f2df",
   "outputs": [],
   "execution_count": 562
  },
  {
   "metadata": {
    "ExecuteTime": {
     "end_time": "2025-04-11T20:21:23.846971Z",
     "start_time": "2025-04-11T20:21:23.842364Z"
    }
   },
   "cell_type": "code",
   "source": [
    "#Train Test Split\n",
    "x_train, x_test, y_train, y_test = train_test_split(titanic_X, titanic_Y, test_size=0.3, random_state=42)\n",
    "x_train.shape, x_test.shape, y_train.shape, y_test.shape"
   ],
   "id": "a84192230fc2b45d",
   "outputs": [
    {
     "data": {
      "text/plain": [
       "((623, 11), (268, 11), (623,), (268,))"
      ]
     },
     "execution_count": 563,
     "metadata": {},
     "output_type": "execute_result"
    }
   ],
   "execution_count": 563
  },
  {
   "metadata": {},
   "cell_type": "markdown",
   "source": "### Classifications for the prediction of our target variable survival",
   "id": "901d36fa106e3174"
  },
  {
   "metadata": {
    "ExecuteTime": {
     "end_time": "2025-04-11T20:21:26.221280Z",
     "start_time": "2025-04-11T20:21:26.218964Z"
    }
   },
   "cell_type": "code",
   "source": [
    "##Naive Bayes\n",
    "from sklearn.naive_bayes import BernoulliNB\n",
    "from sklearn.naive_bayes import GaussianNB\n",
    "from sklearn.metrics import confusion_matrix\n",
    "\n",
    "##Find best subselction\n"
   ],
   "id": "6ed9574edc6a24f7",
   "outputs": [],
   "execution_count": 564
  },
  {
   "metadata": {
    "ExecuteTime": {
     "end_time": "2025-04-11T20:21:27.241299Z",
     "start_time": "2025-04-11T20:21:27.236722Z"
    }
   },
   "cell_type": "code",
   "source": [
    "#Fit the model\n",
    "gnb = GaussianNB()\n",
    "gnb.fit(x_train, y_train)\n",
    "y_pred = gnb.predict(x_test)"
   ],
   "id": "121cc9d43759bf59",
   "outputs": [],
   "execution_count": 565
  },
  {
   "metadata": {
    "ExecuteTime": {
     "end_time": "2025-04-11T20:21:28.562436Z",
     "start_time": "2025-04-11T20:21:28.498508Z"
    }
   },
   "cell_type": "code",
   "source": [
    "##Plotting the accuracy of Gaussian Naive Bayes Classification\n",
    "cm = confusion_matrix(y_test, y_pred)\n",
    "sns.heatmap(cm, annot=True, fmt='d', cmap='Blues')\n",
    "plt.title(\"Gaussian Naive Bayes - Confusion Matrix\")\n",
    "plt.xlabel(\"Predicted\")\n",
    "plt.ylabel(\"Actual\")\n",
    "plt.show()"
   ],
   "id": "213ed0c2058e902b",
   "outputs": [
    {
     "data": {
      "text/plain": [
       "<Figure size 640x480 with 2 Axes>"
      ],
      "image/png": "[encoded data removed]"
     },
     "metadata": {},
     "output_type": "display_data"
    }
   ],
   "execution_count": 566
  },
  {
   "metadata": {
    "ExecuteTime": {
     "end_time": "2025-04-11T20:21:29.531227Z",
     "start_time": "2025-04-11T20:21:29.467712Z"
    }
   },
   "cell_type": "code",
   "source": [
    "##Fit the Bernoulli Model\n",
    "bnb = BernoulliNB()\n",
    "bnb.fit(x_train, y_train)\n",
    "y_pred = bnb.predict(x_test)\n",
    "\n",
    "##Plotting the accuracy of Ridge Classification\n",
    "cm = confusion_matrix(y_test, y_pred)\n",
    "sns.heatmap(cm, annot=True, fmt='d', cmap='Blues')\n",
    "plt.title(\"Bernoulli Naive Bayes - Confusion Matrix\")\n",
    "plt.xlabel(\"Predicted\")\n",
    "plt.ylabel(\"Actual\")\n",
    "plt.show()"
   ],
   "id": "99371ad5938bf072",
   "outputs": [
    {
     "data": {
      "text/plain": [
       "<Figure size 640x480 with 2 Axes>"
      ],
      "image/png": "[encoded data removed]"
     },
     "metadata": {},
     "output_type": "display_data"
    }
   ],
   "execution_count": 567
  },
  {
   "metadata": {
    "ExecuteTime": {
     "end_time": "2025-04-11T20:21:35.374881Z",
     "start_time": "2025-04-11T20:21:31.402178Z"
    }
   },
   "cell_type": "code",
   "source": [
    "##RidgeClassifier\n",
    "from sklearn.linear_model import RidgeClassifier\n",
    "\n",
    "##Fit the Model\n",
    "best_subset_rrc = exhaustive_selection(titanic_X, titanic_Y, RidgeClassifier())\n",
    "X_train_bf = x_train[list(best_subset_rrc)]\n",
    "X_test_bf = x_test[list(best_subset_rrc)]\n",
    "rrc = RidgeClassifier()\n",
    "rrc.fit(X_train_bf, y_train)\n",
    "y_pred= rrc.predict(X_test_bf)\n",
    "\n",
    "##Plotting the accuracy of Ridge Classification\n",
    "cm = confusion_matrix(y_test, y_pred)\n",
    "sns.heatmap(cm, annot=True, fmt='d', cmap='Blues')\n",
    "plt.title(\"Ridge Classifier - Confusion Matrix\")\n",
    "plt.xlabel(\"Predicted\")\n",
    "plt.ylabel(\"Actual\")\n",
    "plt.show()"
   ],
   "id": "fd751df9db1c0548",
   "outputs": [
    {
     "name": "stdout",
     "output_type": "stream",
     "text": [
      "(712, 11) (179, 11) (712,) (179,)\n",
      "(('Pclass',), ('Age',), ('Parch',), ('Sex_female',))\n",
      "0.17065637065637063\n",
      "[0.10154440154440147, 0.10154440154440147, 0.12458172458172456, 0.17065637065637063, 0.17065637065637063, 0.17065637065637063, 0.17065637065637063, 0.17065637065637063, 0.17065637065637063, 0.17065637065637063, 0.17065637065637063]\n"
     ]
    },
    {
     "data": {
      "text/plain": [
       "<Figure size 640x480 with 1 Axes>"
      ],
      "image/png": "[encoded data removed]"
     },
     "metadata": {},
     "output_type": "display_data"
    },
    {
     "data": {
      "text/plain": [
       "<Figure size 640x480 with 2 Axes>"
      ],
      "image/png": "[encoded data removed]"
     },
     "metadata": {},
     "output_type": "display_data"
    }
   ],
   "execution_count": 568
  },
  {
   "metadata": {
    "ExecuteTime": {
     "end_time": "2025-04-11T20:14:32.326911Z",
     "start_time": "2025-04-11T20:14:32.318640Z"
    }
   },
   "cell_type": "code",
   "source": "rrc.coef_, rrc.intercept_, rrc.score(x_test[list(best_subset_rrc)], y_test)",
   "id": "9b370891a6e7cd21",
   "outputs": [
    {
     "data": {
      "text/plain": [
       "(array([-0.29750243, -0.13883751, -0.07140759,  1.00047903]),\n",
       " array([-0.59275537]),\n",
       " 0.8022388059701493)"
      ]
     },
     "execution_count": 513,
     "metadata": {},
     "output_type": "execute_result"
    }
   ],
   "execution_count": 513
  },
  {
   "metadata": {
    "ExecuteTime": {
     "end_time": "2025-04-11T20:24:20.569333Z",
     "start_time": "2025-04-11T20:24:16.377541Z"
    }
   },
   "cell_type": "code",
   "source": [
    "from sklearn.neighbors import KNeighborsClassifier\n",
    "from sklearn.metrics import mean_squared_error\n",
    "#Normal train test split In RMSE and out RMSE\n",
    "k_range = range(1,200)\n",
    "inRMSE = []\n",
    "outRMSE = []\n",
    "best_k = int\n",
    "\n",
    "##In Rmse\n",
    "for i in k_range:\n",
    "    knn = KNeighborsClassifier(n_neighbors=i)\n",
    "    knn.fit(x_train, y_train)\n",
    "    RMSE = np.sqrt(mean_squared_error(y_train, knn.predict(x_train)))\n",
    "    inRMSE.append(RMSE)\n",
    "\n",
    "##OutRMSE\n",
    "for i in k_range:\n",
    "    knn = KNeighborsClassifier(n_neighbors=i)\n",
    "    knn.fit(x_train, y_train)\n",
    "    RMSE = np.sqrt(mean_squared_error(y_test, knn.predict(x_test)))\n",
    "    outRMSE.append(RMSE)\n",
    "\n",
    "    if RMSE < np.min(outRMSE):\n",
    "        best_k = i\n"
   ],
   "id": "c86d403c2e73b807",
   "outputs": [],
   "execution_count": 569
  },
  {
   "metadata": {
    "ExecuteTime": {
     "end_time": "2025-04-11T20:24:21.259430Z",
     "start_time": "2025-04-11T20:24:21.256426Z"
    }
   },
   "cell_type": "code",
   "source": [
    "best_k = k_range[np.argmin(outRMSE)]\n",
    "best_k"
   ],
   "id": "707e41e599fff3f7",
   "outputs": [
    {
     "data": {
      "text/plain": [
       "9"
      ]
     },
     "execution_count": 570,
     "metadata": {},
     "output_type": "execute_result"
    }
   ],
   "execution_count": 570
  },
  {
   "metadata": {
    "ExecuteTime": {
     "end_time": "2025-04-11T20:24:23.601920Z",
     "start_time": "2025-04-11T20:24:23.528399Z"
    }
   },
   "cell_type": "code",
   "source": [
    "##Graph the inRMSE and outRMSE\n",
    "k_range = range(1, 200)\n",
    "plt.figure(figsize=(10, 5))\n",
    "plt.plot(k_range, inRMSE, k_range, outRMSE)\n",
    "plt.xlabel('Number of Neighbors (k)')\n",
    "plt.ylabel('RMSE')\n",
    "plt.title('RMSE vs. Number of Neighbors')\n",
    "plt.grid(True)\n",
    "plt.show()\n"
   ],
   "id": "4b1946bae0adb050",
   "outputs": [
    {
     "data": {
      "text/plain": [
       "<Figure size 1000x500 with 1 Axes>"
      ],
      "image/png": "[encoded data removed]"
     },
     "metadata": {},
     "output_type": "display_data"
    }
   ],
   "execution_count": 571
  },
  {
   "metadata": {
    "ExecuteTime": {
     "end_time": "2025-04-11T20:25:11.418245Z",
     "start_time": "2025-04-11T20:25:11.347408Z"
    }
   },
   "cell_type": "code",
   "source": [
    "knn = KNeighborsClassifier(n_neighbors=best_k)\n",
    "knn.fit(x_train, y_train)\n",
    "y_pred = knn.predict(x_test)\n",
    "\n",
    "##Plotting the accuracy of KNN Classification\n",
    "cm = confusion_matrix(y_test, y_pred)\n",
    "sns.heatmap(cm, annot=True, fmt='d', cmap='Blues')\n",
    "plt.title(\"KNN Classification - Confusion Matrix\")\n",
    "plt.xlabel(\"Predicted\")\n",
    "plt.ylabel(\"Actual\")\n",
    "plt.show()"
   ],
   "id": "ed22c72e7887e937",
   "outputs": [
    {
     "data": {
      "text/plain": [
       "<Figure size 640x480 with 2 Axes>"
      ],
      "image/png": "[encoded data removed]"
     },
     "metadata": {},
     "output_type": "display_data"
    }
   ],
   "execution_count": 573
  },
  {
   "metadata": {},
   "cell_type": "code",
   "outputs": [],
   "execution_count": null,
   "source": "",
   "id": "c47b373cad090f62"
  }
 ],
 "metadata": {
  "kernelspec": {
   "display_name": "Python 3",
   "language": "python",
   "name": "python3"
  },
  "language_info": {
   "codemirror_mode": {
    "name": "ipython",
    "version": 2
   },
   "file_extension": ".py",
   "mimetype": "text/x-python",
   "name": "python",
   "nbconvert_exporter": "python",
   "pygments_lexer": "ipython2",
   "version": "2.7.6"
  }
 },
 "nbformat": 4,
 "nbformat_minor": 5
}
